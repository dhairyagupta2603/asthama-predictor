{
 "cells": [
  {
   "cell_type": "code",
   "execution_count": 19,
   "metadata": {},
   "outputs": [],
   "source": [
    "import os\n",
    "import re\n",
    "import json\n",
    "import copy\n",
    "from collections import Counter\n",
    "\n",
    "import numpy as np\n",
    "import pandas as pd\n",
    "from tqdm import tqdm\n",
    "from matplotlib import pyplot as plt\n",
    "\n",
    "tqdm.pandas()"
   ]
  },
  {
   "cell_type": "code",
   "execution_count": 20,
   "metadata": {},
   "outputs": [
    {
     "data": {
      "text/plain": [
       "'../../data'"
      ]
     },
     "execution_count": 20,
     "metadata": {},
     "output_type": "execute_result"
    }
   ],
   "source": [
    "data_folder = os.path.join('..', '..', 'data')\n",
    "data_folder"
   ]
  },
  {
   "cell_type": "code",
   "execution_count": 21,
   "metadata": {},
   "outputs": [
    {
     "data": {
      "text/plain": [
       "'../../data/mfcc_data'"
      ]
     },
     "execution_count": 21,
     "metadata": {},
     "output_type": "execute_result"
    }
   ],
   "source": [
    "data_path = os.path.join(data_folder, 'mfcc_data')\n",
    "data_path"
   ]
  },
  {
   "cell_type": "code",
   "execution_count": 22,
   "metadata": {},
   "outputs": [],
   "source": [
    "df = {'aa': None, 'ee': None, 'oo': None, 'uu': None, 'yy': None}"
   ]
  },
  {
   "cell_type": "code",
   "execution_count": 23,
   "metadata": {},
   "outputs": [
    {
     "name": "stderr",
     "output_type": "stream",
     "text": [
      "compiling dataframe:   0%|          | 0/5 [00:00<?, ?it/s]"
     ]
    },
    {
     "name": "stderr",
     "output_type": "stream",
     "text": [
      "compiling dataframe: 100%|██████████| 5/5 [00:08<00:00,  1.66s/it]\n"
     ]
    }
   ],
   "source": [
    "for key in tqdm(df.keys(), total=5, desc='compiling dataframe'):\n",
    "    df[key] = pd.read_csv(os.path.join(data_path, f'{key}.csv'))\n",
    "    df[key].rename(columns = {'Unnamed: 0':'per_frame_idx'}, inplace = True)"
   ]
  },
  {
   "cell_type": "code",
   "execution_count": 24,
   "metadata": {},
   "outputs": [
    {
     "data": {
      "text/html": [
       "<div>\n",
       "<style scoped>\n",
       "    .dataframe tbody tr th:only-of-type {\n",
       "        vertical-align: middle;\n",
       "    }\n",
       "\n",
       "    .dataframe tbody tr th {\n",
       "        vertical-align: top;\n",
       "    }\n",
       "\n",
       "    .dataframe thead th {\n",
       "        text-align: right;\n",
       "    }\n",
       "</style>\n",
       "<table border=\"1\" class=\"dataframe\">\n",
       "  <thead>\n",
       "    <tr style=\"text-align: right;\">\n",
       "      <th></th>\n",
       "      <th>per_frame_idx</th>\n",
       "      <th>mb_name</th>\n",
       "      <th>f1</th>\n",
       "      <th>f2</th>\n",
       "      <th>f3</th>\n",
       "      <th>f4</th>\n",
       "      <th>f5</th>\n",
       "      <th>f6</th>\n",
       "      <th>f7</th>\n",
       "      <th>f8</th>\n",
       "      <th>f9</th>\n",
       "      <th>f10</th>\n",
       "      <th>f11</th>\n",
       "      <th>f12</th>\n",
       "      <th>phonon</th>\n",
       "      <th>asthma_status</th>\n",
       "    </tr>\n",
       "  </thead>\n",
       "  <tbody>\n",
       "    <tr>\n",
       "      <th>0</th>\n",
       "      <td>0</td>\n",
       "      <td>Gaurav</td>\n",
       "      <td>44.710414</td>\n",
       "      <td>19.531717</td>\n",
       "      <td>7.328152</td>\n",
       "      <td>8.012278</td>\n",
       "      <td>8.111264</td>\n",
       "      <td>4.881243</td>\n",
       "      <td>3.272635</td>\n",
       "      <td>3.614586</td>\n",
       "      <td>3.929110</td>\n",
       "      <td>4.392023</td>\n",
       "      <td>4.472067</td>\n",
       "      <td>3.018250</td>\n",
       "      <td>yy_0</td>\n",
       "      <td>Control</td>\n",
       "    </tr>\n",
       "    <tr>\n",
       "      <th>1</th>\n",
       "      <td>1</td>\n",
       "      <td>Gaurav</td>\n",
       "      <td>19.114588</td>\n",
       "      <td>17.408821</td>\n",
       "      <td>15.060162</td>\n",
       "      <td>12.615221</td>\n",
       "      <td>10.534673</td>\n",
       "      <td>9.048090</td>\n",
       "      <td>8.113040</td>\n",
       "      <td>7.486300</td>\n",
       "      <td>6.866503</td>\n",
       "      <td>6.039954</td>\n",
       "      <td>4.966096</td>\n",
       "      <td>3.772002</td>\n",
       "      <td>yy_0</td>\n",
       "      <td>Control</td>\n",
       "    </tr>\n",
       "    <tr>\n",
       "      <th>2</th>\n",
       "      <td>2</td>\n",
       "      <td>Gaurav</td>\n",
       "      <td>21.273338</td>\n",
       "      <td>19.061090</td>\n",
       "      <td>16.062972</td>\n",
       "      <td>12.950587</td>\n",
       "      <td>10.189107</td>\n",
       "      <td>7.952612</td>\n",
       "      <td>6.235261</td>\n",
       "      <td>5.024480</td>\n",
       "      <td>4.375248</td>\n",
       "      <td>4.328725</td>\n",
       "      <td>4.764197</td>\n",
       "      <td>5.339773</td>\n",
       "      <td>yy_0</td>\n",
       "      <td>Control</td>\n",
       "    </tr>\n",
       "    <tr>\n",
       "      <th>3</th>\n",
       "      <td>3</td>\n",
       "      <td>Gaurav</td>\n",
       "      <td>23.144851</td>\n",
       "      <td>20.887974</td>\n",
       "      <td>18.016163</td>\n",
       "      <td>15.320787</td>\n",
       "      <td>13.205160</td>\n",
       "      <td>11.590205</td>\n",
       "      <td>10.153748</td>\n",
       "      <td>8.696925</td>\n",
       "      <td>7.354372</td>\n",
       "      <td>6.497358</td>\n",
       "      <td>6.416034</td>\n",
       "      <td>7.031154</td>\n",
       "      <td>yy_0</td>\n",
       "      <td>Control</td>\n",
       "    </tr>\n",
       "    <tr>\n",
       "      <th>4</th>\n",
       "      <td>4</td>\n",
       "      <td>Gaurav</td>\n",
       "      <td>30.542365</td>\n",
       "      <td>26.728360</td>\n",
       "      <td>21.410256</td>\n",
       "      <td>15.800419</td>\n",
       "      <td>11.031209</td>\n",
       "      <td>7.835375</td>\n",
       "      <td>6.380029</td>\n",
       "      <td>6.298878</td>\n",
       "      <td>6.894315</td>\n",
       "      <td>7.422906</td>\n",
       "      <td>7.355647</td>\n",
       "      <td>6.524073</td>\n",
       "      <td>yy_0</td>\n",
       "      <td>Control</td>\n",
       "    </tr>\n",
       "  </tbody>\n",
       "</table>\n",
       "</div>"
      ],
      "text/plain": [
       "   per_frame_idx mb_name         f1         f2         f3         f4  \\\n",
       "0              0  Gaurav  44.710414  19.531717   7.328152   8.012278   \n",
       "1              1  Gaurav  19.114588  17.408821  15.060162  12.615221   \n",
       "2              2  Gaurav  21.273338  19.061090  16.062972  12.950587   \n",
       "3              3  Gaurav  23.144851  20.887974  18.016163  15.320787   \n",
       "4              4  Gaurav  30.542365  26.728360  21.410256  15.800419   \n",
       "\n",
       "          f5         f6         f7        f8        f9       f10       f11  \\\n",
       "0   8.111264   4.881243   3.272635  3.614586  3.929110  4.392023  4.472067   \n",
       "1  10.534673   9.048090   8.113040  7.486300  6.866503  6.039954  4.966096   \n",
       "2  10.189107   7.952612   6.235261  5.024480  4.375248  4.328725  4.764197   \n",
       "3  13.205160  11.590205  10.153748  8.696925  7.354372  6.497358  6.416034   \n",
       "4  11.031209   7.835375   6.380029  6.298878  6.894315  7.422906  7.355647   \n",
       "\n",
       "        f12 phonon asthma_status  \n",
       "0  3.018250   yy_0       Control  \n",
       "1  3.772002   yy_0       Control  \n",
       "2  5.339773   yy_0       Control  \n",
       "3  7.031154   yy_0       Control  \n",
       "4  6.524073   yy_0       Control  "
      ]
     },
     "execution_count": 24,
     "metadata": {},
     "output_type": "execute_result"
    }
   ],
   "source": [
    "df['yy'].head()"
   ]
  },
  {
   "cell_type": "code",
   "execution_count": 25,
   "metadata": {},
   "outputs": [],
   "source": [
    "patients = {'aa': None, 'ee': None, 'oo': None, 'uu': None, 'yy': None}\n",
    "control = {'aa': None, 'ee': None, 'oo': None, 'uu': None, 'yy': None}"
   ]
  },
  {
   "cell_type": "code",
   "execution_count": 26,
   "metadata": {},
   "outputs": [
    {
     "name": "stdout",
     "output_type": "stream",
     "text": [
      "phonon aa: p = 65, c = 103\n",
      "phonon ee: p = 65, c = 101\n",
      "phonon oo: p = 63, c = 103\n",
      "phonon uu: p = 62, c = 98\n",
      "phonon yy: p = 62, c = 101\n"
     ]
    }
   ],
   "source": [
    "for key, df_t in df.items():\n",
    "    patients[key] = df_t.loc[df_t['asthma_status'] == 'Patient']\n",
    "    control[key] = df_t.loc[df_t['asthma_status'] == 'Control']\n",
    "\n",
    "    n_p = patients[key]['mb_name'].nunique()\n",
    "    n_c = control[key]['mb_name'].nunique()\n",
    "\n",
    "    print(f'phonon {key}: p = {n_p}, c = {n_c}')"
   ]
  },
  {
   "cell_type": "code",
   "execution_count": 27,
   "metadata": {},
   "outputs": [
    {
     "data": {
      "text/plain": [
       "'../../data/SHIVANI_DATA_2016'"
      ]
     },
     "execution_count": 27,
     "metadata": {},
     "output_type": "execute_result"
    }
   ],
   "source": [
    "metadata_dir_path = os.path.join(data_folder, 'SHIVANI_DATA_2016')\n",
    "metadata_dir_path"
   ]
  },
  {
   "cell_type": "code",
   "execution_count": 28,
   "metadata": {},
   "outputs": [],
   "source": [
    "subjects = dict([])\n",
    "\n",
    "for name in os.listdir(metadata_dir_path):\n",
    "    name_path = os.path.join(metadata_dir_path, name)\n",
    "    metadata_path = None\n",
    "\n",
    "    a, b, c = False, False, False\n",
    "    for file in os.listdir(name_path):\n",
    "        if re.match('^.+before.+[.]wav$', file) != None: a = True\n",
    "        if re.match('^.+before.+[.]anote[.]txt$', file) != None: b = True\n",
    "        if re.match('^.+[.]json$', file) != None: \n",
    "            c = True\n",
    "            metadata_path = os.path.join(name_path, file)\n",
    "\n",
    "    if a and b and c:\n",
    "        with open(metadata_path, 'r') as f:\n",
    "            metadata = json.load(f)['subjectBiodata']\n",
    "\n",
    "            # fill deatils about the subjects\n",
    "            subjects[name] = {\n",
    "                'age': metadata['subjectAge'],\n",
    "                'gender': metadata['subjectGender'],\n",
    "                'type': metadata['subjectType']\n",
    "            }"
   ]
  },
  {
   "attachments": {},
   "cell_type": "markdown",
   "metadata": {},
   "source": [
    "#### Visualize"
   ]
  },
  {
   "cell_type": "code",
   "execution_count": 29,
   "metadata": {},
   "outputs": [
    {
     "name": "stdout",
     "output_type": "stream",
     "text": [
      "Mean age of contol is 30\n",
      "Mean age of patients is 42\n",
      "Median age of contol is 26\n",
      "Median age of patients is 40\n"
     ]
    }
   ],
   "source": [
    "patient_ages = [data['age'] for names, data in subjects.items() if data['type'] == 'Patient']\n",
    "contol_ages = [data['age'] for names, data in subjects.items() if data['type'] == 'Control']\n",
    "\n",
    "patient_mean_age = round(np.mean(patient_ages))\n",
    "control_mean_age = round(np.mean(contol_ages))\n",
    "print(f'Mean age of contol is {control_mean_age}')\n",
    "print(f'Mean age of patients is {patient_mean_age}')\n",
    "\n",
    "patient_median_age = round(np.median(patient_ages))\n",
    "control_median_age = round(np.median(contol_ages))\n",
    "print(f'Median age of contol is {control_median_age}')\n",
    "print(f'Median age of patients is {patient_median_age}')\n"
   ]
  },
  {
   "cell_type": "code",
   "execution_count": 30,
   "metadata": {},
   "outputs": [
    {
     "data": {
      "image/png": "[encoded data removed]",
      "text/plain": [
       "<Figure size 640x480 with 1 Axes>"
      ]
     },
     "metadata": {},
     "output_type": "display_data"
    }
   ],
   "source": [
    "plt.hist(contol_ages, color='green', ec='black', bins=len(set(contol_ages)))\n",
    "plt.show()"
   ]
  },
  {
   "cell_type": "code",
   "execution_count": 31,
   "metadata": {},
   "outputs": [
    {
     "data": {
      "image/png": "[encoded data removed]",
      "text/plain": [
       "<Figure size 640x480 with 1 Axes>"
      ]
     },
     "metadata": {},
     "output_type": "display_data"
    }
   ],
   "source": [
    "plt.hist(patient_ages, color='red', ec='black', bins=len(set(patient_ages)))\n",
    "plt.show()"
   ]
  },
  {
   "cell_type": "code",
   "execution_count": 32,
   "metadata": {},
   "outputs": [
    {
     "name": "stdout",
     "output_type": "stream",
     "text": [
      "Gender num for control Counter({'male': 55, 'female': 49})\n",
      "Gender num for patients Counter({'male': 39, 'female': 31})\n"
     ]
    }
   ],
   "source": [
    "patient_genders = [data['gender'] for names, data in subjects.items() if data['type'] == 'Patient']\n",
    "contol_genders = [data['gender'] for names, data in subjects.items() if data['type'] == 'Control']\n",
    "\n",
    "print(f'Gender num for control {Counter(contol_genders)}')\n",
    "print(f'Gender num for patients {Counter(patient_genders)}')"
   ]
  },
  {
   "attachments": {},
   "cell_type": "markdown",
   "metadata": {},
   "source": [
    "#### Make feature matrix"
   ]
  },
  {
   "cell_type": "code",
   "execution_count": 33,
   "metadata": {},
   "outputs": [],
   "source": [
    "feature_cols = ['f1', 'f2', 'f3', 'f4', 'f5', 'f6', 'f7', 'f8', 'f9', 'f10', 'f11', 'f12']\n",
    "def combine_features(row, col_list: list[str]):\n",
    "    combined_row = np.array([np.float32(row[col]) for col in col_list])\n",
    "    return combined_row"
   ]
  },
  {
   "cell_type": "code",
   "execution_count": 34,
   "metadata": {},
   "outputs": [
    {
     "name": "stderr",
     "output_type": "stream",
     "text": [
      "100%|██████████| 775426/775426 [00:19<00:00, 38921.89it/s]\n",
      "100%|██████████| 783220/783220 [00:20<00:00, 38889.09it/s]\n",
      "100%|██████████| 767081/767081 [00:20<00:00, 38350.46it/s]\n",
      "100%|██████████| 742878/742878 [00:19<00:00, 38591.33it/s]\n",
      "100%|██████████| 748603/748603 [00:19<00:00, 38668.12it/s]\n"
     ]
    }
   ],
   "source": [
    "save_path = os.path.join('..', '..', 'data', 'mfcc_matix_data')\n",
    "\n",
    "for key, df_t in df.items():\n",
    "    df_t['f_combined'] = df_t.progress_apply(lambda row: combine_features(row, feature_cols), axis=1)\n",
    "    df_t.drop(feature_cols, axis=1, inplace=True)"
   ]
  },
  {
   "cell_type": "code",
   "execution_count": 42,
   "metadata": {},
   "outputs": [],
   "source": [
    "for key, df_t in tqdm(df.items(), total=5, desc='saving to tsv files'):\n",
    "    df_t.to_csv(os.path.join(save_path, f'{key}.tsv'), header=True, index=False, sep='\\t')"
   ]
  }
 ],
 "metadata": {
  "kernelspec": {
   "display_name": "env",
   "language": "python",
   "name": "python3"
  },
  "language_info": {
   "codemirror_mode": {
    "name": "ipython",
    "version": 3
   },
   "file_extension": ".py",
   "mimetype": "text/x-python",
   "name": "python",
   "nbconvert_exporter": "python",
   "pygments_lexer": "ipython3",
   "version": "3.11.3"
  },
  "orig_nbformat": 4
 },
 "nbformat": 4,
 "nbformat_minor": 2
}
