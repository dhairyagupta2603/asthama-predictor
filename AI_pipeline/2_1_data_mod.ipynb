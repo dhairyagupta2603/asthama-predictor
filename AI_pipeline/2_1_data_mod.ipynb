{
 "cells": [
  {
   "cell_type": "code",
   "execution_count": 1,
   "metadata": {},
   "outputs": [],
   "source": [
    "import os\n",
    "from multiprocessing import Pool\n",
    "\n",
    "import numpy as np\n",
    "import pandas as pd\n",
    "from tqdm import tqdm\n",
    "\n",
    "from sklearn import preprocessing\n",
    "\n",
    "tqdm.pandas()"
   ]
  },
  {
   "cell_type": "code",
   "execution_count": 2,
   "metadata": {},
   "outputs": [
    {
     "data": {
      "text/plain": [
       "'../../data/mfcc_data'"
      ]
     },
     "execution_count": 2,
     "metadata": {},
     "output_type": "execute_result"
    }
   ],
   "source": [
    "data_folder = os.path.join('..', '..', 'data', 'mfcc_data')\n",
    "data_folder"
   ]
  },
  {
   "cell_type": "code",
   "execution_count": 3,
   "metadata": {},
   "outputs": [
    {
     "data": {
      "text/plain": [
       "'../../data/mfcc_data/split_samples'"
      ]
     },
     "execution_count": 3,
     "metadata": {},
     "output_type": "execute_result"
    }
   ],
   "source": [
    "data_path = os.path.join(data_folder, 'split_samples')\n",
    "data_path"
   ]
  },
  {
   "cell_type": "code",
   "execution_count": 4,
   "metadata": {},
   "outputs": [
    {
     "data": {
      "text/plain": [
       "['aa', 'yy', 'ee', 'uu', 'oo']"
      ]
     },
     "execution_count": 4,
     "metadata": {},
     "output_type": "execute_result"
    }
   ],
   "source": [
    "phonon_dirs = os.listdir(data_path)\n",
    "phonon_dirs"
   ]
  },
  {
   "cell_type": "code",
   "execution_count": 5,
   "metadata": {},
   "outputs": [
    {
     "name": "stderr",
     "output_type": "stream",
     "text": [
      "loading dataframes to environment:   0%|          | 0/5 [00:00<?, ?it/s]"
     ]
    },
    {
     "name": "stderr",
     "output_type": "stream",
     "text": [
      "loading dataframes to environment: 100%|██████████| 5/5 [00:07<00:00,  1.56s/it]\n"
     ]
    }
   ],
   "source": [
    "dfs = {}\n",
    "for _, phonon in tqdm(enumerate(phonon_dirs), total=5, desc='loading dataframes to environment'):\n",
    "    dfp = {}\n",
    "    dfp['train'] = pd.read_csv(os.path.join(data_path, phonon, 'train.csv'), sep=',', index_col=False)\n",
    "    dfp['val'] = pd.read_csv(os.path.join(data_path, phonon, 'validation.csv'), sep=',', index_col=False)\n",
    "    dfp['test'] = pd.read_csv(os.path.join(data_path, phonon, 'test.csv'), sep=',', index_col=False)\n",
    "    dfs[phonon] = dfp"
   ]
  },
  {
   "cell_type": "code",
   "execution_count": 6,
   "metadata": {},
   "outputs": [
    {
     "data": {
      "text/html": [
       "<div>\n",
       "<style scoped>\n",
       "    .dataframe tbody tr th:only-of-type {\n",
       "        vertical-align: middle;\n",
       "    }\n",
       "\n",
       "    .dataframe tbody tr th {\n",
       "        vertical-align: top;\n",
       "    }\n",
       "\n",
       "    .dataframe thead th {\n",
       "        text-align: right;\n",
       "    }\n",
       "</style>\n",
       "<table border=\"1\" class=\"dataframe\">\n",
       "  <thead>\n",
       "    <tr style=\"text-align: right;\">\n",
       "      <th></th>\n",
       "      <th>per_frame_idx</th>\n",
       "      <th>mb_name</th>\n",
       "      <th>f1</th>\n",
       "      <th>f2</th>\n",
       "      <th>f3</th>\n",
       "      <th>f4</th>\n",
       "      <th>f5</th>\n",
       "      <th>f6</th>\n",
       "      <th>f7</th>\n",
       "      <th>f8</th>\n",
       "      <th>f9</th>\n",
       "      <th>f10</th>\n",
       "      <th>f11</th>\n",
       "      <th>f12</th>\n",
       "      <th>phonon</th>\n",
       "      <th>asthma_status</th>\n",
       "    </tr>\n",
       "  </thead>\n",
       "  <tbody>\n",
       "    <tr>\n",
       "      <th>0</th>\n",
       "      <td>0</td>\n",
       "      <td>rakeshchandir</td>\n",
       "      <td>60.668870</td>\n",
       "      <td>7.802181</td>\n",
       "      <td>10.811879</td>\n",
       "      <td>7.814297</td>\n",
       "      <td>7.754417</td>\n",
       "      <td>3.729708</td>\n",
       "      <td>2.219900</td>\n",
       "      <td>-0.375733</td>\n",
       "      <td>-1.652478</td>\n",
       "      <td>0.197033</td>\n",
       "      <td>1.516975</td>\n",
       "      <td>2.506025</td>\n",
       "      <td>aa_0</td>\n",
       "      <td>Control</td>\n",
       "    </tr>\n",
       "    <tr>\n",
       "      <th>1</th>\n",
       "      <td>1</td>\n",
       "      <td>rakeshchandir</td>\n",
       "      <td>94.439415</td>\n",
       "      <td>22.157387</td>\n",
       "      <td>18.656971</td>\n",
       "      <td>1.743329</td>\n",
       "      <td>7.241928</td>\n",
       "      <td>-6.788054</td>\n",
       "      <td>10.041304</td>\n",
       "      <td>10.452458</td>\n",
       "      <td>7.371104</td>\n",
       "      <td>-1.932848</td>\n",
       "      <td>1.436076</td>\n",
       "      <td>1.496013</td>\n",
       "      <td>aa_0</td>\n",
       "      <td>Control</td>\n",
       "    </tr>\n",
       "    <tr>\n",
       "      <th>2</th>\n",
       "      <td>2</td>\n",
       "      <td>rakeshchandir</td>\n",
       "      <td>105.453860</td>\n",
       "      <td>23.223387</td>\n",
       "      <td>15.914175</td>\n",
       "      <td>-8.980723</td>\n",
       "      <td>2.737044</td>\n",
       "      <td>-8.845027</td>\n",
       "      <td>9.470811</td>\n",
       "      <td>11.707370</td>\n",
       "      <td>1.294802</td>\n",
       "      <td>-4.366670</td>\n",
       "      <td>2.691685</td>\n",
       "      <td>1.936454</td>\n",
       "      <td>aa_0</td>\n",
       "      <td>Control</td>\n",
       "    </tr>\n",
       "    <tr>\n",
       "      <th>3</th>\n",
       "      <td>3</td>\n",
       "      <td>rakeshchandir</td>\n",
       "      <td>103.578804</td>\n",
       "      <td>20.992363</td>\n",
       "      <td>12.070422</td>\n",
       "      <td>-5.657372</td>\n",
       "      <td>3.078934</td>\n",
       "      <td>-8.174733</td>\n",
       "      <td>13.465215</td>\n",
       "      <td>13.941802</td>\n",
       "      <td>5.428069</td>\n",
       "      <td>-9.584655</td>\n",
       "      <td>1.801956</td>\n",
       "      <td>2.729300</td>\n",
       "      <td>aa_0</td>\n",
       "      <td>Control</td>\n",
       "    </tr>\n",
       "    <tr>\n",
       "      <th>4</th>\n",
       "      <td>4</td>\n",
       "      <td>rakeshchandir</td>\n",
       "      <td>102.343280</td>\n",
       "      <td>19.410513</td>\n",
       "      <td>12.802026</td>\n",
       "      <td>-4.302977</td>\n",
       "      <td>2.639948</td>\n",
       "      <td>-5.764059</td>\n",
       "      <td>16.228315</td>\n",
       "      <td>11.062158</td>\n",
       "      <td>5.537199</td>\n",
       "      <td>-2.830167</td>\n",
       "      <td>2.316537</td>\n",
       "      <td>4.929792</td>\n",
       "      <td>aa_0</td>\n",
       "      <td>Control</td>\n",
       "    </tr>\n",
       "  </tbody>\n",
       "</table>\n",
       "</div>"
      ],
      "text/plain": [
       "   per_frame_idx        mb_name          f1         f2         f3        f4  \\\n",
       "0              0  rakeshchandir   60.668870   7.802181  10.811879  7.814297   \n",
       "1              1  rakeshchandir   94.439415  22.157387  18.656971  1.743329   \n",
       "2              2  rakeshchandir  105.453860  23.223387  15.914175 -8.980723   \n",
       "3              3  rakeshchandir  103.578804  20.992363  12.070422 -5.657372   \n",
       "4              4  rakeshchandir  102.343280  19.410513  12.802026 -4.302977   \n",
       "\n",
       "         f5        f6         f7         f8        f9       f10       f11  \\\n",
       "0  7.754417  3.729708   2.219900  -0.375733 -1.652478  0.197033  1.516975   \n",
       "1  7.241928 -6.788054  10.041304  10.452458  7.371104 -1.932848  1.436076   \n",
       "2  2.737044 -8.845027   9.470811  11.707370  1.294802 -4.366670  2.691685   \n",
       "3  3.078934 -8.174733  13.465215  13.941802  5.428069 -9.584655  1.801956   \n",
       "4  2.639948 -5.764059  16.228315  11.062158  5.537199 -2.830167  2.316537   \n",
       "\n",
       "        f12 phonon asthma_status  \n",
       "0  2.506025   aa_0       Control  \n",
       "1  1.496013   aa_0       Control  \n",
       "2  1.936454   aa_0       Control  \n",
       "3  2.729300   aa_0       Control  \n",
       "4  4.929792   aa_0       Control  "
      ]
     },
     "execution_count": 6,
     "metadata": {},
     "output_type": "execute_result"
    }
   ],
   "source": [
    "dfs['aa']['test'].head()"
   ]
  },
  {
   "cell_type": "code",
   "execution_count": 7,
   "metadata": {},
   "outputs": [
    {
     "name": "stdout",
     "output_type": "stream",
     "text": [
      "dict_keys(['aa', 'yy', 'ee', 'uu', 'oo'])\n",
      "dict_keys(['train', 'val', 'test'])\n"
     ]
    }
   ],
   "source": [
    "print(dfs.keys())\n",
    "print(dfs['aa'].keys())"
   ]
  },
  {
   "cell_type": "code",
   "execution_count": 8,
   "metadata": {},
   "outputs": [
    {
     "data": {
      "text/plain": [
       "{'aa': 419, 'yy': 1038, 'ee': 832, 'uu': 548, 'oo': 470}"
      ]
     },
     "execution_count": 8,
     "metadata": {},
     "output_type": "execute_result"
    }
   ],
   "source": [
    "min_cnts = {}\n",
    "for key, dfp in dfs.items():\n",
    "    min_cnts[key] = min([df.groupby('mb_name').count().min()[0] for _, df in dfp.items()])\n",
    "min_cnts"
   ]
  },
  {
   "cell_type": "code",
   "execution_count": 15,
   "metadata": {},
   "outputs": [
    {
     "name": "stderr",
     "output_type": "stream",
     "text": [
      "subsampling to minimum rows: 100%|██████████| 5/5 [00:01<00:00,  4.55it/s]\n"
     ]
    }
   ],
   "source": [
    "dfs_sampled = {}\n",
    "for key, dfp in tqdm(dfs.items(), total=5, desc='subsampling to minimum rows'):\n",
    "    dfp_sampled = {}\n",
    "\n",
    "    for type_df, df in dfp.items():\n",
    "        df_grpd = df.groupby('mb_name')\n",
    "\n",
    "        # df_sampled = df_grpd.apply(lambda group: group.sample(n=min_cnts[key], random_state=137))\n",
    "        df_sampled = df_grpd.apply(lambda group: group.sample(n=400, random_state=42))\n",
    "        df_sampled = df_sampled.reset_index(level=0, drop=True)\n",
    "        dfp_sampled[type_df] = df_sampled\n",
    "        \n",
    "    dfs_sampled[key] = dfp_sampled"
   ]
  },
  {
   "cell_type": "code",
   "execution_count": 16,
   "metadata": {},
   "outputs": [
    {
     "name": "stdout",
     "output_type": "stream",
     "text": [
      "reduction in total number of rows per dataframe after subsampling: -\n",
      "aa: train = 483884, val = 156741, test = 67601\n",
      "yy: train = 467286, val = 157601, test = 56831\n",
      "ee: train = 483922, val = 157455, test = 73737\n",
      "uu: train = 458085, val = 157256, test = 61723\n",
      "oo: train = 490982, val = 153991, test = 53980\n"
     ]
    }
   ],
   "source": [
    "print('reduction in total number of rows per dataframe after subsampling: -')\n",
    "for key, _ in dfs.items():\n",
    "    train_d = (dfs[key]['train'].shape[0] - dfs_sampled[key]['train'].shape[0])\n",
    "    val_d = (dfs[key]['val'].shape[0] - dfs_sampled[key]['val'].shape[0])\n",
    "    test_d = (dfs[key]['test'].shape[0] - dfs_sampled[key]['test'].shape[0])\n",
    "\n",
    "    print(f'{key}: train = {train_d}, val = {val_d}, test = {test_d}')"
   ]
  },
  {
   "cell_type": "code",
   "execution_count": 17,
   "metadata": {},
   "outputs": [
    {
     "name": "stderr",
     "output_type": "stream",
     "text": [
      "dropping columns: 100%|██████████| 5/5 [00:00<00:00, 45.60it/s]\n"
     ]
    }
   ],
   "source": [
    "def conv_to_32(df, cols): df[cols] = df[cols].astype(np.float32)\n",
    "\n",
    "for key, dfp in tqdm(dfs_sampled.items(), total=5, desc='dropping columns'):\n",
    "    for type_df, df in dfp.items():\n",
    "        df.drop(['per_frame_idx', 'phonon'], axis=1, inplace=True)\n",
    "\n",
    "        # convert float64 to float32\n",
    "        conv_to_32(df, ['f1', 'f2', 'f3', 'f4', 'f5', 'f6', 'f7', 'f8', 'f9', 'f10', 'f11', 'f12'])\n",
    "\n",
    "        # convert catagory column to encoded\n",
    "        df['asthma_status'] = df['asthma_status'].astype('category')\n",
    "        df['asthma_status'] = df['asthma_status'].cat.codes"
   ]
  },
  {
   "cell_type": "code",
   "execution_count": 14,
   "metadata": {},
   "outputs": [
    {
     "data": {
      "text/html": [
       "<div>\n",
       "<style scoped>\n",
       "    .dataframe tbody tr th:only-of-type {\n",
       "        vertical-align: middle;\n",
       "    }\n",
       "\n",
       "    .dataframe tbody tr th {\n",
       "        vertical-align: top;\n",
       "    }\n",
       "\n",
       "    .dataframe thead th {\n",
       "        text-align: right;\n",
       "    }\n",
       "</style>\n",
       "<table border=\"1\" class=\"dataframe\">\n",
       "  <thead>\n",
       "    <tr style=\"text-align: right;\">\n",
       "      <th></th>\n",
       "      <th>mb_name</th>\n",
       "      <th>f1</th>\n",
       "      <th>f2</th>\n",
       "      <th>f3</th>\n",
       "      <th>f4</th>\n",
       "      <th>f5</th>\n",
       "      <th>f6</th>\n",
       "      <th>f7</th>\n",
       "      <th>f8</th>\n",
       "      <th>f9</th>\n",
       "      <th>f10</th>\n",
       "      <th>f11</th>\n",
       "      <th>f12</th>\n",
       "      <th>asthma_status</th>\n",
       "    </tr>\n",
       "  </thead>\n",
       "  <tbody>\n",
       "    <tr>\n",
       "      <th>208968</th>\n",
       "      <td>aakash</td>\n",
       "      <td>111.881432</td>\n",
       "      <td>-6.761704</td>\n",
       "      <td>18.432259</td>\n",
       "      <td>-25.987196</td>\n",
       "      <td>-10.089402</td>\n",
       "      <td>-2.987719</td>\n",
       "      <td>5.414159</td>\n",
       "      <td>-0.438673</td>\n",
       "      <td>8.517943</td>\n",
       "      <td>-15.682688</td>\n",
       "      <td>-5.469613</td>\n",
       "      <td>4.987144</td>\n",
       "      <td>0</td>\n",
       "    </tr>\n",
       "    <tr>\n",
       "      <th>207590</th>\n",
       "      <td>aakash</td>\n",
       "      <td>106.462669</td>\n",
       "      <td>-17.036549</td>\n",
       "      <td>30.186279</td>\n",
       "      <td>-20.651434</td>\n",
       "      <td>-4.815188</td>\n",
       "      <td>-2.234130</td>\n",
       "      <td>7.631989</td>\n",
       "      <td>5.356962</td>\n",
       "      <td>1.254348</td>\n",
       "      <td>-13.375121</td>\n",
       "      <td>2.206365</td>\n",
       "      <td>6.864884</td>\n",
       "      <td>0</td>\n",
       "    </tr>\n",
       "    <tr>\n",
       "      <th>208826</th>\n",
       "      <td>aakash</td>\n",
       "      <td>117.627678</td>\n",
       "      <td>-5.613412</td>\n",
       "      <td>11.549555</td>\n",
       "      <td>-19.264484</td>\n",
       "      <td>-9.825359</td>\n",
       "      <td>-7.515401</td>\n",
       "      <td>6.382646</td>\n",
       "      <td>-2.680237</td>\n",
       "      <td>16.094612</td>\n",
       "      <td>-17.091774</td>\n",
       "      <td>-7.610350</td>\n",
       "      <td>6.943421</td>\n",
       "      <td>0</td>\n",
       "    </tr>\n",
       "    <tr>\n",
       "      <th>208188</th>\n",
       "      <td>aakash</td>\n",
       "      <td>114.597267</td>\n",
       "      <td>-17.889177</td>\n",
       "      <td>25.708261</td>\n",
       "      <td>-20.124599</td>\n",
       "      <td>-5.454746</td>\n",
       "      <td>-1.452647</td>\n",
       "      <td>6.379558</td>\n",
       "      <td>4.898445</td>\n",
       "      <td>3.003988</td>\n",
       "      <td>-14.524295</td>\n",
       "      <td>0.585186</td>\n",
       "      <td>-0.422372</td>\n",
       "      <td>0</td>\n",
       "    </tr>\n",
       "    <tr>\n",
       "      <th>208215</th>\n",
       "      <td>aakash</td>\n",
       "      <td>114.808334</td>\n",
       "      <td>-19.979095</td>\n",
       "      <td>25.328091</td>\n",
       "      <td>-19.652727</td>\n",
       "      <td>-3.730235</td>\n",
       "      <td>-2.999141</td>\n",
       "      <td>3.203736</td>\n",
       "      <td>5.934777</td>\n",
       "      <td>2.952255</td>\n",
       "      <td>-14.885310</td>\n",
       "      <td>0.763332</td>\n",
       "      <td>-0.670887</td>\n",
       "      <td>0</td>\n",
       "    </tr>\n",
       "  </tbody>\n",
       "</table>\n",
       "</div>"
      ],
      "text/plain": [
       "       mb_name          f1         f2         f3         f4         f5  \\\n",
       "208968  aakash  111.881432  -6.761704  18.432259 -25.987196 -10.089402   \n",
       "207590  aakash  106.462669 -17.036549  30.186279 -20.651434  -4.815188   \n",
       "208826  aakash  117.627678  -5.613412  11.549555 -19.264484  -9.825359   \n",
       "208188  aakash  114.597267 -17.889177  25.708261 -20.124599  -5.454746   \n",
       "208215  aakash  114.808334 -19.979095  25.328091 -19.652727  -3.730235   \n",
       "\n",
       "              f6        f7        f8         f9        f10       f11  \\\n",
       "208968 -2.987719  5.414159 -0.438673   8.517943 -15.682688 -5.469613   \n",
       "207590 -2.234130  7.631989  5.356962   1.254348 -13.375121  2.206365   \n",
       "208826 -7.515401  6.382646 -2.680237  16.094612 -17.091774 -7.610350   \n",
       "208188 -1.452647  6.379558  4.898445   3.003988 -14.524295  0.585186   \n",
       "208215 -2.999141  3.203736  5.934777   2.952255 -14.885310  0.763332   \n",
       "\n",
       "             f12  asthma_status  \n",
       "208968  4.987144              0  \n",
       "207590  6.864884              0  \n",
       "208826  6.943421              0  \n",
       "208188 -0.422372              0  \n",
       "208215 -0.670887              0  "
      ]
     },
     "execution_count": 14,
     "metadata": {},
     "output_type": "execute_result"
    }
   ],
   "source": [
    "dfs_sampled['aa']['train'].head()"
   ]
  },
  {
   "cell_type": "code",
   "execution_count": 13,
   "metadata": {},
   "outputs": [],
   "source": [
    "# scaler = preprocessing.StandardScaler(copy=True, with_mean=True, with_std=True)"
   ]
  },
  {
   "cell_type": "code",
   "execution_count": 18,
   "metadata": {},
   "outputs": [],
   "source": [
    "def transformations(df):\n",
    "    X = df.loc[:, df.columns != 'asthma_status'].to_numpy()\n",
    "    Y = df.loc[:, 'asthma_status'].to_numpy()\n",
    "    # X_scaled = scaler.fit_transform(X)\n",
    "\n",
    "    df_x = pd.DataFrame(X, columns=['f1', 'f2', 'f3', 'f4', 'f5', 'f6', 'f7', 'f8', 'f9', 'f10', 'f11', 'f12'])\n",
    "    df_y = pd.DataFrame(Y, columns=['asthma_status'], dtype='int')\n",
    "    result_df = pd.concat([df_x, df_y], axis=1)\n",
    "\n",
    "    return result_df"
   ]
  },
  {
   "cell_type": "code",
   "execution_count": 19,
   "metadata": {},
   "outputs": [
    {
     "data": {
      "text/plain": [
       "'../../data/mfcc_data/grpd_samples'"
      ]
     },
     "execution_count": 19,
     "metadata": {},
     "output_type": "execute_result"
    }
   ],
   "source": [
    "save_folder = os.path.join(data_folder, 'grpd_samples')\n",
    "save_folder"
   ]
  },
  {
   "cell_type": "code",
   "execution_count": 20,
   "metadata": {},
   "outputs": [
    {
     "name": "stderr",
     "output_type": "stream",
     "text": [
      "saving dfs: 100%|██████████| 5/5 [00:06<00:00,  1.28s/it]\n"
     ]
    }
   ],
   "source": [
    "for key, dfp in tqdm(dfs_sampled.items(), total=5, desc='saving dfs'):\n",
    "    phonon_folder = os.path.join(save_folder, key)\n",
    "    for type_df, df in dfp.items():\n",
    "        names = df['mb_name'].unique()\n",
    "        type_df_folder = os.path.join(phonon_folder, type_df)\n",
    "        for name in names:\n",
    "            person_df = df.loc[df['mb_name'] == name, df.columns != 'mb_name']\n",
    "            person_df = transformations(person_df)\n",
    "            person_df.to_csv(os.path.join(type_df_folder, f'{name}.csv'), index=False)\n"
   ]
  },
  {
   "cell_type": "code",
   "execution_count": 21,
   "metadata": {},
   "outputs": [
    {
     "name": "stdout",
     "output_type": "stream",
     "text": [
      "aa: -\n",
      "train: (46800, 14)\tval: (13600, 14)\ttest: (6800, 14)\t\n",
      "yy: -\n",
      "train: (46000, 14)\tval: (13200, 14)\ttest: (5600, 14)\t\n",
      "ee: -\n",
      "train: (46000, 14)\tval: (13200, 14)\ttest: (6800, 14)\t\n",
      "uu: -\n",
      "train: (43600, 14)\tval: (13200, 14)\ttest: (6800, 14)\t\n",
      "oo: -\n",
      "train: (46400, 14)\tval: (13200, 14)\ttest: (6400, 14)\t\n"
     ]
    }
   ],
   "source": [
    "for key, type_dict in dfs_sampled.items():\n",
    "    print(f'{key}: -')\n",
    "    for type_df, part in type_dict.items():\n",
    "        print(f'{type_df}: {part.shape}', end='\\t')\n",
    "    print()"
   ]
  }
 ],
 "metadata": {
  "kernelspec": {
   "display_name": "env",
   "language": "python",
   "name": "python3"
  },
  "language_info": {
   "codemirror_mode": {
    "name": "ipython",
    "version": 3
   },
   "file_extension": ".py",
   "mimetype": "text/x-python",
   "name": "python",
   "nbconvert_exporter": "python",
   "pygments_lexer": "ipython3",
   "version": "3.11.4"
  },
  "orig_nbformat": 4
 },
 "nbformat": 4,
 "nbformat_minor": 2
}
