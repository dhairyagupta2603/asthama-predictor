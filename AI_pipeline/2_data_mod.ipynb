{
 "cells": [
  {
   "cell_type": "code",
   "execution_count": 1,
   "metadata": {},
   "outputs": [],
   "source": [
    "import os\n",
    "import re\n",
    "import json\n",
    "from copy import deepcopy\n",
    "from collections import Counter\n",
    "from multiprocessing import Pool\n",
    "\n",
    "import numpy as np\n",
    "import pandas as pd\n",
    "from tqdm import tqdm\n",
    "from matplotlib import pyplot as plt\n",
    "\n",
    "from sklearn.model_selection import train_test_split\n",
    "\n",
    "tqdm.pandas()"
   ]
  },
  {
   "cell_type": "code",
   "execution_count": 2,
   "metadata": {},
   "outputs": [
    {
     "data": {
      "text/plain": [
       "'../../data'"
      ]
     },
     "execution_count": 2,
     "metadata": {},
     "output_type": "execute_result"
    }
   ],
   "source": [
    "data_folder = os.path.join('..', '..', 'data')\n",
    "data_folder"
   ]
  },
  {
   "cell_type": "code",
   "execution_count": 3,
   "metadata": {},
   "outputs": [
    {
     "data": {
      "text/plain": [
       "'../../data/mfcc_data'"
      ]
     },
     "execution_count": 3,
     "metadata": {},
     "output_type": "execute_result"
    }
   ],
   "source": [
    "data_path = os.path.join(data_folder, 'mfcc_data')\n",
    "data_path"
   ]
  },
  {
   "cell_type": "code",
   "execution_count": 4,
   "metadata": {},
   "outputs": [],
   "source": [
    "dfs = {'aa': None, 'ee': None, 'oo': None, 'uu': None, 'yy': None}\n",
    "\n",
    "def get_df(key):\n",
    "    df = pd.read_csv(os.path.join(data_path, f'{key}.csv'))\n",
    "    df['mb_name'] = df['mb_name'].apply(lambda name: name.lower())\n",
    "    df.rename(columns = {'Unnamed: 0':'per_frame_idx'}, inplace = True)\n",
    "    return (key, df)\n",
    "\n",
    "def update_dfs(x):\n",
    "    key, df = x\n",
    "    dfs[key] = df"
   ]
  },
  {
   "cell_type": "code",
   "execution_count": 5,
   "metadata": {},
   "outputs": [],
   "source": [
    "read_pool = Pool()\n",
    "for key in dfs.keys():\n",
    "    read_pool.apply_async(get_df, args=(key,) , callback=update_dfs)\n",
    "read_pool.close()\n",
    "read_pool.join()\n"
   ]
  },
  {
   "cell_type": "code",
   "execution_count": 6,
   "metadata": {},
   "outputs": [
    {
     "name": "stdout",
     "output_type": "stream",
     "text": [
      "phonon aa: p = 65, c = 103\n",
      "phonon ee: p = 65, c = 101\n",
      "phonon oo: p = 63, c = 103\n",
      "phonon uu: p = 62, c = 98\n",
      "phonon yy: p = 62, c = 101\n"
     ]
    }
   ],
   "source": [
    "patients = {'aa': None, 'ee': None, 'oo': None, 'uu': None, 'yy': None}\n",
    "control = {'aa': None, 'ee': None, 'oo': None, 'uu': None, 'yy': None}\n",
    "\n",
    "for key, df in dfs.items():\n",
    "    patients[key] = df.loc[df['asthma_status'] == 'Patient']\n",
    "    control[key] = df.loc[df['asthma_status'] == 'Control']\n",
    "\n",
    "    n_p = patients[key]['mb_name'].nunique()\n",
    "    n_c = control[key]['mb_name'].nunique()\n",
    "\n",
    "    print(f'phonon {key}: p = {n_p}, c = {n_c}')"
   ]
  },
  {
   "cell_type": "code",
   "execution_count": 7,
   "metadata": {},
   "outputs": [
    {
     "data": {
      "text/plain": [
       "'../../data/SHIVANI_DATA_2016'"
      ]
     },
     "execution_count": 7,
     "metadata": {},
     "output_type": "execute_result"
    }
   ],
   "source": [
    "metadata_dir_path = os.path.join(data_folder, 'SHIVANI_DATA_2016')\n",
    "metadata_dir_path"
   ]
  },
  {
   "cell_type": "code",
   "execution_count": 8,
   "metadata": {},
   "outputs": [],
   "source": [
    "subjects = dict([])\n",
    "\n",
    "for name in os.listdir(metadata_dir_path):\n",
    "    name_path = os.path.join(metadata_dir_path, name)\n",
    "    metadata_path = None\n",
    "\n",
    "    a, b, c = False, False, False\n",
    "    for file in os.listdir(name_path):\n",
    "        if re.match('^.+before.+[.]wav$', file) != None: a = True\n",
    "        if re.match('^.+before.+[.]anote[.]txt$', file) != None: b = True\n",
    "        if re.match('^.+[.]json$', file) != None: \n",
    "            c = True\n",
    "            metadata_path = os.path.join(name_path, file)\n",
    "\n",
    "    if a and b and c:\n",
    "        with open(metadata_path, 'r') as f:\n",
    "            metadata = json.load(f)['subjectBiodata']\n",
    "\n",
    "            # fill deatils about the subjects\n",
    "            subjects[name.lower()] = {\n",
    "                'age': metadata['subjectAge'],\n",
    "                'gender': metadata['subjectGender'],\n",
    "                'type': metadata['subjectType']\n",
    "            }"
   ]
  },
  {
   "attachments": {},
   "cell_type": "markdown",
   "metadata": {},
   "source": [
    "#### Visualize"
   ]
  },
  {
   "cell_type": "code",
   "execution_count": 9,
   "metadata": {},
   "outputs": [
    {
     "name": "stdout",
     "output_type": "stream",
     "text": [
      "Mean age of contol is 30\n",
      "Mean age of patients is 42\n",
      "Median age of contol is 26\n",
      "Median age of patients is 40\n"
     ]
    }
   ],
   "source": [
    "patient_ages = [data['age'] for names, data in subjects.items() if data['type'] == 'Patient']\n",
    "contol_ages = [data['age'] for names, data in subjects.items() if data['type'] == 'Control']\n",
    "\n",
    "patient_mean_age = round(np.mean(patient_ages))\n",
    "control_mean_age = round(np.mean(contol_ages))\n",
    "print(f'Mean age of contol is {control_mean_age}')\n",
    "print(f'Mean age of patients is {patient_mean_age}')\n",
    "\n",
    "patient_median_age = round(np.median(patient_ages))\n",
    "control_median_age = round(np.median(contol_ages))\n",
    "print(f'Median age of contol is {control_median_age}')\n",
    "print(f'Median age of patients is {patient_median_age}')\n"
   ]
  },
  {
   "cell_type": "code",
   "execution_count": 10,
   "metadata": {},
   "outputs": [
    {
     "data": {
      "image/png": "[encoded data removed]",
      "text/plain": [
       "<Figure size 640x480 with 1 Axes>"
      ]
     },
     "metadata": {},
     "output_type": "display_data"
    }
   ],
   "source": [
    "plt.hist(contol_ages, color='green', ec='black', bins=len(set(contol_ages)))\n",
    "plt.show()"
   ]
  },
  {
   "cell_type": "code",
   "execution_count": 11,
   "metadata": {},
   "outputs": [
    {
     "data": {
      "image/png": "[encoded data removed]",
      "text/plain": [
       "<Figure size 640x480 with 1 Axes>"
      ]
     },
     "metadata": {},
     "output_type": "display_data"
    }
   ],
   "source": [
    "plt.hist(patient_ages, color='red', ec='black', bins=len(set(patient_ages)))\n",
    "plt.show()"
   ]
  },
  {
   "cell_type": "code",
   "execution_count": 12,
   "metadata": {},
   "outputs": [
    {
     "name": "stdout",
     "output_type": "stream",
     "text": [
      "Gender num for control Counter({'male': 55, 'female': 49})\n",
      "Gender num for patients Counter({'male': 39, 'female': 31})\n"
     ]
    }
   ],
   "source": [
    "patient_genders = [data['gender'] for names, data in subjects.items() if data['type'] == 'Patient']\n",
    "contol_genders = [data['gender'] for names, data in subjects.items() if data['type'] == 'Control']\n",
    "\n",
    "print(f'Gender num for control {Counter(contol_genders)}')\n",
    "print(f'Gender num for patients {Counter(patient_genders)}')"
   ]
  },
  {
   "cell_type": "code",
   "execution_count": 13,
   "metadata": {},
   "outputs": [],
   "source": [
    "def conv_to_32(df, cols):\n",
    "    df[cols] = df[cols].astype(np.float32)\n",
    "\n",
    "conv_to_32(dfs['aa'], ['f1', 'f2', 'f3', 'f4', 'f5', 'f6', 'f7', 'f8', 'f9', 'f10', 'f11', 'f12'])"
   ]
  },
  {
   "cell_type": "code",
   "execution_count": 14,
   "metadata": {},
   "outputs": [
    {
     "data": {
      "text/plain": [
       "'../../data/mfcc_data/split_samples'"
      ]
     },
     "execution_count": 14,
     "metadata": {},
     "output_type": "execute_result"
    }
   ],
   "source": [
    "save_folder = os.path.join(data_path, 'split_samples')\n",
    "save_folder"
   ]
  },
  {
   "cell_type": "code",
   "execution_count": 15,
   "metadata": {},
   "outputs": [
    {
     "name": "stderr",
     "output_type": "stream",
     "text": [
      "  0%|          | 0/5 [00:00<?, ?it/s]"
     ]
    },
    {
     "name": "stderr",
     "output_type": "stream",
     "text": [
      "100%|██████████| 5/5 [00:42<00:00,  8.47s/it]\n"
     ]
    }
   ],
   "source": [
    "for key, df in tqdm(dfs.items()):\n",
    "    X = dfs['aa'].loc[:, ['mb_name']]\n",
    "    Y = dfs['aa'].loc[:, ['asthma_status']]\n",
    "\n",
    "    # convert from pandas to 1D numpy\n",
    "    X_np = X.to_numpy().flatten()\n",
    "    Y_np = Y.to_numpy().flatten()\n",
    "\n",
    "    k = list(set((zip(X_np, Y_np)))) # get unique pairs\n",
    "\n",
    "    # split the unique pairs\n",
    "    m = list(zip(*k)) \n",
    "    x_np = np.array(m[0])\n",
    "    y_np = np.array(m[1])\n",
    "\n",
    "    # stratified split\n",
    "    x_train, x_vt, y_train, y_vt = train_test_split(x_np, y_np, test_size=0.3, random_state=137, stratify=y_np)\n",
    "    x_val, x_test, y_val, y_test = train_test_split(x_vt, y_vt, test_size=0.33, random_state=137, stratify=y_vt)\n",
    "\n",
    "    train_df = df.loc[df['mb_name'].isin(x_train)]\n",
    "    val_df = df.loc[df['mb_name'].isin(x_val)]\n",
    "    test_df = df.loc[df['mb_name'].isin(x_test)]\n",
    "\n",
    "    # save files\n",
    "    train_df.to_csv(os.path.join(save_folder, key, 'train.csv'), header=True, index=False)\n",
    "    val_df.to_csv(os.path.join(save_folder, key, 'validation.csv'), header=True, index=False)\n",
    "    test_df.to_csv(os.path.join(save_folder, key, 'test.csv'), header=True, index=False)"
   ]
  },
  {
   "cell_type": "code",
   "execution_count": null,
   "metadata": {},
   "outputs": [],
   "source": []
  }
 ],
 "metadata": {
  "kernelspec": {
   "display_name": "env",
   "language": "python",
   "name": "python3"
  },
  "language_info": {
   "codemirror_mode": {
    "name": "ipython",
    "version": 3
   },
   "file_extension": ".py",
   "mimetype": "text/x-python",
   "name": "python",
   "nbconvert_exporter": "python",
   "pygments_lexer": "ipython3",
   "version": "3.11.3"
  },
  "orig_nbformat": 4
 },
 "nbformat": 4,
 "nbformat_minor": 2
}
