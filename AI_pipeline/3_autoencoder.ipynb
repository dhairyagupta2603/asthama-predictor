{
 "cells": [
  {
   "cell_type": "code",
   "execution_count": 2,
   "metadata": {},
   "outputs": [
    {
     "name": "stdout",
     "output_type": "stream",
     "text": [
      "2.0.2\n",
      "2.12.0\n",
      "GPUs Available:  []\n"
     ]
    }
   ],
   "source": [
    "import os\n",
    "import numpy as np\n",
    "import pandas as pd\n",
    "from tqdm import tqdm\n",
    "from matplotlib import pyplot as plt\n",
    "\n",
    "from sklearn import preprocessing\n",
    "from sklearn.svm import SVC, LinearSVC\n",
    "from sklearn.model_selection import train_test_split\n",
    "\n",
    "import tensorflow as tf\n",
    "from tensorflow import keras\n",
    "import keras_tuner as kt\n",
    "from tensorflow.keras.losses import BinaryCrossentropy\n",
    "from tensorflow.keras.optimizers import Adam, SGD, Adagrad\n",
    "from tensorflow.keras.metrics import Accuracy, BinaryAccuracy, CategoricalAccuracy, mean_squared_error\n",
    "from tensorflow.keras.layers import Conv2D, Conv1D, Dense, Flatten, Reshape, LeakyReLU, Dropout, UpSampling2D, UpSampling1D, Softmax, MaxPool1D\n",
    "\n",
    "os.environ['TF_CPP_MIN_LOG_LEVEL'] = '2'\n",
    "os.environ['TF_ENABLE_ONEDNN_OPTS'] = '1'\n",
    "tqdm.pandas()\n",
    "\n",
    "print(pd.__version__)\n",
    "print(tf.__version__)\n",
    "print(\"GPUs Available: \", tf.config.list_physical_devices('GPU'))"
   ]
  },
  {
   "cell_type": "code",
   "execution_count": 3,
   "metadata": {},
   "outputs": [
    {
     "data": {
      "text/plain": [
       "'../../data/mfcc_data'"
      ]
     },
     "execution_count": 3,
     "metadata": {},
     "output_type": "execute_result"
    }
   ],
   "source": [
    "data_path = save_path = os.path.join('..', '..', 'data', 'mfcc_data')\n",
    "data_path"
   ]
  },
  {
   "cell_type": "code",
   "execution_count": 4,
   "metadata": {},
   "outputs": [
    {
     "data": {
      "text/html": [
       "<div>\n",
       "<style scoped>\n",
       "    .dataframe tbody tr th:only-of-type {\n",
       "        vertical-align: middle;\n",
       "    }\n",
       "\n",
       "    .dataframe tbody tr th {\n",
       "        vertical-align: top;\n",
       "    }\n",
       "\n",
       "    .dataframe thead th {\n",
       "        text-align: right;\n",
       "    }\n",
       "</style>\n",
       "<table border=\"1\" class=\"dataframe\">\n",
       "  <thead>\n",
       "    <tr style=\"text-align: right;\">\n",
       "      <th></th>\n",
       "      <th>per_frame_idx</th>\n",
       "      <th>mb_name</th>\n",
       "      <th>f1</th>\n",
       "      <th>f2</th>\n",
       "      <th>f3</th>\n",
       "      <th>f4</th>\n",
       "      <th>f5</th>\n",
       "      <th>f6</th>\n",
       "      <th>f7</th>\n",
       "      <th>f8</th>\n",
       "      <th>f9</th>\n",
       "      <th>f10</th>\n",
       "      <th>f11</th>\n",
       "      <th>f12</th>\n",
       "      <th>phonon</th>\n",
       "      <th>asthma_status</th>\n",
       "    </tr>\n",
       "  </thead>\n",
       "  <tbody>\n",
       "    <tr>\n",
       "      <th>0</th>\n",
       "      <td>0</td>\n",
       "      <td>Gaurav</td>\n",
       "      <td>61.123414</td>\n",
       "      <td>9.845393</td>\n",
       "      <td>10.817043</td>\n",
       "      <td>7.056085</td>\n",
       "      <td>7.272934</td>\n",
       "      <td>5.614048</td>\n",
       "      <td>4.491151</td>\n",
       "      <td>4.172515</td>\n",
       "      <td>2.286071</td>\n",
       "      <td>2.837438</td>\n",
       "      <td>2.339272</td>\n",
       "      <td>2.766470</td>\n",
       "      <td>aa_0</td>\n",
       "      <td>Control</td>\n",
       "    </tr>\n",
       "    <tr>\n",
       "      <th>1</th>\n",
       "      <td>1</td>\n",
       "      <td>Gaurav</td>\n",
       "      <td>26.805195</td>\n",
       "      <td>23.643036</td>\n",
       "      <td>19.462853</td>\n",
       "      <td>15.425544</td>\n",
       "      <td>12.429753</td>\n",
       "      <td>10.795815</td>\n",
       "      <td>10.223204</td>\n",
       "      <td>10.023100</td>\n",
       "      <td>9.501163</td>\n",
       "      <td>8.302703</td>\n",
       "      <td>6.560850</td>\n",
       "      <td>4.790960</td>\n",
       "      <td>aa_0</td>\n",
       "      <td>Control</td>\n",
       "    </tr>\n",
       "    <tr>\n",
       "      <th>2</th>\n",
       "      <td>2</td>\n",
       "      <td>Gaurav</td>\n",
       "      <td>30.082260</td>\n",
       "      <td>25.409986</td>\n",
       "      <td>19.316051</td>\n",
       "      <td>13.504215</td>\n",
       "      <td>9.194826</td>\n",
       "      <td>6.793358</td>\n",
       "      <td>6.015062</td>\n",
       "      <td>6.272963</td>\n",
       "      <td>7.025842</td>\n",
       "      <td>7.901014</td>\n",
       "      <td>8.629334</td>\n",
       "      <td>8.968523</td>\n",
       "      <td>aa_0</td>\n",
       "      <td>Control</td>\n",
       "    </tr>\n",
       "    <tr>\n",
       "      <th>3</th>\n",
       "      <td>3</td>\n",
       "      <td>Gaurav</td>\n",
       "      <td>27.535518</td>\n",
       "      <td>24.261880</td>\n",
       "      <td>20.139553</td>\n",
       "      <td>16.368507</td>\n",
       "      <td>13.601135</td>\n",
       "      <td>11.807386</td>\n",
       "      <td>10.589570</td>\n",
       "      <td>9.629306</td>\n",
       "      <td>8.898376</td>\n",
       "      <td>8.510073</td>\n",
       "      <td>8.410082</td>\n",
       "      <td>8.236045</td>\n",
       "      <td>aa_0</td>\n",
       "      <td>Control</td>\n",
       "    </tr>\n",
       "    <tr>\n",
       "      <th>4</th>\n",
       "      <td>4</td>\n",
       "      <td>Gaurav</td>\n",
       "      <td>19.493349</td>\n",
       "      <td>17.590766</td>\n",
       "      <td>15.298169</td>\n",
       "      <td>13.292620</td>\n",
       "      <td>11.786129</td>\n",
       "      <td>10.563364</td>\n",
       "      <td>9.328993</td>\n",
       "      <td>8.018267</td>\n",
       "      <td>6.815018</td>\n",
       "      <td>5.924896</td>\n",
       "      <td>5.365196</td>\n",
       "      <td>4.971466</td>\n",
       "      <td>aa_0</td>\n",
       "      <td>Control</td>\n",
       "    </tr>\n",
       "  </tbody>\n",
       "</table>\n",
       "</div>"
      ],
      "text/plain": [
       "   per_frame_idx mb_name         f1         f2         f3         f4  \\\n",
       "0              0  Gaurav  61.123414   9.845393  10.817043   7.056085   \n",
       "1              1  Gaurav  26.805195  23.643036  19.462853  15.425544   \n",
       "2              2  Gaurav  30.082260  25.409986  19.316051  13.504215   \n",
       "3              3  Gaurav  27.535518  24.261880  20.139553  16.368507   \n",
       "4              4  Gaurav  19.493349  17.590766  15.298169  13.292620   \n",
       "\n",
       "          f5         f6         f7         f8        f9       f10       f11  \\\n",
       "0   7.272934   5.614048   4.491151   4.172515  2.286071  2.837438  2.339272   \n",
       "1  12.429753  10.795815  10.223204  10.023100  9.501163  8.302703  6.560850   \n",
       "2   9.194826   6.793358   6.015062   6.272963  7.025842  7.901014  8.629334   \n",
       "3  13.601135  11.807386  10.589570   9.629306  8.898376  8.510073  8.410082   \n",
       "4  11.786129  10.563364   9.328993   8.018267  6.815018  5.924896  5.365196   \n",
       "\n",
       "        f12 phonon asthma_status  \n",
       "0  2.766470   aa_0       Control  \n",
       "1  4.790960   aa_0       Control  \n",
       "2  8.968523   aa_0       Control  \n",
       "3  8.236045   aa_0       Control  \n",
       "4  4.971466   aa_0       Control  "
      ]
     },
     "execution_count": 4,
     "metadata": {},
     "output_type": "execute_result"
    }
   ],
   "source": [
    "df = pd.read_csv(os.path.join(data_path, 'aa.csv'), sep=',', index_col=False)\n",
    "df.rename(columns = {'Unnamed: 0':'per_frame_idx'}, inplace = True)\n",
    "df.head()"
   ]
  },
  {
   "cell_type": "code",
   "execution_count": 5,
   "metadata": {},
   "outputs": [
    {
     "data": {
      "text/html": [
       "<div>\n",
       "<style scoped>\n",
       "    .dataframe tbody tr th:only-of-type {\n",
       "        vertical-align: middle;\n",
       "    }\n",
       "\n",
       "    .dataframe tbody tr th {\n",
       "        vertical-align: top;\n",
       "    }\n",
       "\n",
       "    .dataframe thead th {\n",
       "        text-align: right;\n",
       "    }\n",
       "</style>\n",
       "<table border=\"1\" class=\"dataframe\">\n",
       "  <thead>\n",
       "    <tr style=\"text-align: right;\">\n",
       "      <th></th>\n",
       "      <th>f1</th>\n",
       "      <th>f2</th>\n",
       "      <th>f3</th>\n",
       "      <th>f4</th>\n",
       "      <th>f5</th>\n",
       "      <th>f6</th>\n",
       "      <th>f7</th>\n",
       "      <th>f8</th>\n",
       "      <th>f9</th>\n",
       "      <th>f10</th>\n",
       "      <th>f11</th>\n",
       "      <th>f12</th>\n",
       "      <th>asthma_status</th>\n",
       "    </tr>\n",
       "  </thead>\n",
       "  <tbody>\n",
       "    <tr>\n",
       "      <th>0</th>\n",
       "      <td>61.123414</td>\n",
       "      <td>9.845393</td>\n",
       "      <td>10.817043</td>\n",
       "      <td>7.056085</td>\n",
       "      <td>7.272934</td>\n",
       "      <td>5.614048</td>\n",
       "      <td>4.491151</td>\n",
       "      <td>4.172515</td>\n",
       "      <td>2.286071</td>\n",
       "      <td>2.837438</td>\n",
       "      <td>2.339272</td>\n",
       "      <td>2.766470</td>\n",
       "      <td>Control</td>\n",
       "    </tr>\n",
       "    <tr>\n",
       "      <th>1</th>\n",
       "      <td>26.805195</td>\n",
       "      <td>23.643036</td>\n",
       "      <td>19.462853</td>\n",
       "      <td>15.425544</td>\n",
       "      <td>12.429753</td>\n",
       "      <td>10.795815</td>\n",
       "      <td>10.223204</td>\n",
       "      <td>10.023100</td>\n",
       "      <td>9.501163</td>\n",
       "      <td>8.302703</td>\n",
       "      <td>6.560850</td>\n",
       "      <td>4.790960</td>\n",
       "      <td>Control</td>\n",
       "    </tr>\n",
       "    <tr>\n",
       "      <th>2</th>\n",
       "      <td>30.082260</td>\n",
       "      <td>25.409986</td>\n",
       "      <td>19.316051</td>\n",
       "      <td>13.504215</td>\n",
       "      <td>9.194826</td>\n",
       "      <td>6.793358</td>\n",
       "      <td>6.015062</td>\n",
       "      <td>6.272963</td>\n",
       "      <td>7.025842</td>\n",
       "      <td>7.901014</td>\n",
       "      <td>8.629334</td>\n",
       "      <td>8.968523</td>\n",
       "      <td>Control</td>\n",
       "    </tr>\n",
       "    <tr>\n",
       "      <th>3</th>\n",
       "      <td>27.535518</td>\n",
       "      <td>24.261880</td>\n",
       "      <td>20.139553</td>\n",
       "      <td>16.368507</td>\n",
       "      <td>13.601135</td>\n",
       "      <td>11.807386</td>\n",
       "      <td>10.589570</td>\n",
       "      <td>9.629306</td>\n",
       "      <td>8.898376</td>\n",
       "      <td>8.510073</td>\n",
       "      <td>8.410082</td>\n",
       "      <td>8.236045</td>\n",
       "      <td>Control</td>\n",
       "    </tr>\n",
       "    <tr>\n",
       "      <th>4</th>\n",
       "      <td>19.493349</td>\n",
       "      <td>17.590766</td>\n",
       "      <td>15.298169</td>\n",
       "      <td>13.292620</td>\n",
       "      <td>11.786129</td>\n",
       "      <td>10.563364</td>\n",
       "      <td>9.328993</td>\n",
       "      <td>8.018267</td>\n",
       "      <td>6.815018</td>\n",
       "      <td>5.924896</td>\n",
       "      <td>5.365196</td>\n",
       "      <td>4.971466</td>\n",
       "      <td>Control</td>\n",
       "    </tr>\n",
       "  </tbody>\n",
       "</table>\n",
       "</div>"
      ],
      "text/plain": [
       "          f1         f2         f3         f4         f5         f6  \\\n",
       "0  61.123414   9.845393  10.817043   7.056085   7.272934   5.614048   \n",
       "1  26.805195  23.643036  19.462853  15.425544  12.429753  10.795815   \n",
       "2  30.082260  25.409986  19.316051  13.504215   9.194826   6.793358   \n",
       "3  27.535518  24.261880  20.139553  16.368507  13.601135  11.807386   \n",
       "4  19.493349  17.590766  15.298169  13.292620  11.786129  10.563364   \n",
       "\n",
       "          f7         f8        f9       f10       f11       f12 asthma_status  \n",
       "0   4.491151   4.172515  2.286071  2.837438  2.339272  2.766470       Control  \n",
       "1  10.223204  10.023100  9.501163  8.302703  6.560850  4.790960       Control  \n",
       "2   6.015062   6.272963  7.025842  7.901014  8.629334  8.968523       Control  \n",
       "3  10.589570   9.629306  8.898376  8.510073  8.410082  8.236045       Control  \n",
       "4   9.328993   8.018267  6.815018  5.924896  5.365196  4.971466       Control  "
      ]
     },
     "execution_count": 5,
     "metadata": {},
     "output_type": "execute_result"
    }
   ],
   "source": [
    "df_req = df.drop(['per_frame_idx', 'mb_name', 'phonon'], axis=1)\n",
    "df_req.head()"
   ]
  },
  {
   "cell_type": "code",
   "execution_count": 6,
   "metadata": {},
   "outputs": [
    {
     "data": {
      "text/html": [
       "<div>\n",
       "<style scoped>\n",
       "    .dataframe tbody tr th:only-of-type {\n",
       "        vertical-align: middle;\n",
       "    }\n",
       "\n",
       "    .dataframe tbody tr th {\n",
       "        vertical-align: top;\n",
       "    }\n",
       "\n",
       "    .dataframe thead th {\n",
       "        text-align: right;\n",
       "    }\n",
       "</style>\n",
       "<table border=\"1\" class=\"dataframe\">\n",
       "  <thead>\n",
       "    <tr style=\"text-align: right;\">\n",
       "      <th></th>\n",
       "      <th>f1</th>\n",
       "      <th>f2</th>\n",
       "      <th>f3</th>\n",
       "      <th>f4</th>\n",
       "      <th>f5</th>\n",
       "      <th>f6</th>\n",
       "      <th>f7</th>\n",
       "      <th>f8</th>\n",
       "      <th>f9</th>\n",
       "      <th>f10</th>\n",
       "      <th>f11</th>\n",
       "      <th>f12</th>\n",
       "      <th>asthma_status</th>\n",
       "    </tr>\n",
       "  </thead>\n",
       "  <tbody>\n",
       "    <tr>\n",
       "      <th>0</th>\n",
       "      <td>61.123413</td>\n",
       "      <td>9.845393</td>\n",
       "      <td>10.817043</td>\n",
       "      <td>7.056085</td>\n",
       "      <td>7.272934</td>\n",
       "      <td>5.614048</td>\n",
       "      <td>4.491150</td>\n",
       "      <td>4.172515</td>\n",
       "      <td>2.286071</td>\n",
       "      <td>2.837438</td>\n",
       "      <td>2.339272</td>\n",
       "      <td>2.766469</td>\n",
       "      <td>Control</td>\n",
       "    </tr>\n",
       "    <tr>\n",
       "      <th>1</th>\n",
       "      <td>26.805195</td>\n",
       "      <td>23.643036</td>\n",
       "      <td>19.462852</td>\n",
       "      <td>15.425544</td>\n",
       "      <td>12.429753</td>\n",
       "      <td>10.795815</td>\n",
       "      <td>10.223204</td>\n",
       "      <td>10.023100</td>\n",
       "      <td>9.501163</td>\n",
       "      <td>8.302703</td>\n",
       "      <td>6.560850</td>\n",
       "      <td>4.790960</td>\n",
       "      <td>Control</td>\n",
       "    </tr>\n",
       "    <tr>\n",
       "      <th>2</th>\n",
       "      <td>30.082260</td>\n",
       "      <td>25.409985</td>\n",
       "      <td>19.316051</td>\n",
       "      <td>13.504214</td>\n",
       "      <td>9.194826</td>\n",
       "      <td>6.793358</td>\n",
       "      <td>6.015062</td>\n",
       "      <td>6.272963</td>\n",
       "      <td>7.025842</td>\n",
       "      <td>7.901014</td>\n",
       "      <td>8.629334</td>\n",
       "      <td>8.968523</td>\n",
       "      <td>Control</td>\n",
       "    </tr>\n",
       "    <tr>\n",
       "      <th>3</th>\n",
       "      <td>27.535519</td>\n",
       "      <td>24.261881</td>\n",
       "      <td>20.139553</td>\n",
       "      <td>16.368507</td>\n",
       "      <td>13.601135</td>\n",
       "      <td>11.807386</td>\n",
       "      <td>10.589570</td>\n",
       "      <td>9.629306</td>\n",
       "      <td>8.898376</td>\n",
       "      <td>8.510074</td>\n",
       "      <td>8.410082</td>\n",
       "      <td>8.236045</td>\n",
       "      <td>Control</td>\n",
       "    </tr>\n",
       "    <tr>\n",
       "      <th>4</th>\n",
       "      <td>19.493349</td>\n",
       "      <td>17.590767</td>\n",
       "      <td>15.298168</td>\n",
       "      <td>13.292620</td>\n",
       "      <td>11.786129</td>\n",
       "      <td>10.563364</td>\n",
       "      <td>9.328993</td>\n",
       "      <td>8.018267</td>\n",
       "      <td>6.815018</td>\n",
       "      <td>5.924896</td>\n",
       "      <td>5.365196</td>\n",
       "      <td>4.971466</td>\n",
       "      <td>Control</td>\n",
       "    </tr>\n",
       "  </tbody>\n",
       "</table>\n",
       "</div>"
      ],
      "text/plain": [
       "          f1         f2         f3         f4         f5         f6  \\\n",
       "0  61.123413   9.845393  10.817043   7.056085   7.272934   5.614048   \n",
       "1  26.805195  23.643036  19.462852  15.425544  12.429753  10.795815   \n",
       "2  30.082260  25.409985  19.316051  13.504214   9.194826   6.793358   \n",
       "3  27.535519  24.261881  20.139553  16.368507  13.601135  11.807386   \n",
       "4  19.493349  17.590767  15.298168  13.292620  11.786129  10.563364   \n",
       "\n",
       "          f7         f8        f9       f10       f11       f12 asthma_status  \n",
       "0   4.491150   4.172515  2.286071  2.837438  2.339272  2.766469       Control  \n",
       "1  10.223204  10.023100  9.501163  8.302703  6.560850  4.790960       Control  \n",
       "2   6.015062   6.272963  7.025842  7.901014  8.629334  8.968523       Control  \n",
       "3  10.589570   9.629306  8.898376  8.510074  8.410082  8.236045       Control  \n",
       "4   9.328993   8.018267  6.815018  5.924896  5.365196  4.971466       Control  "
      ]
     },
     "execution_count": 6,
     "metadata": {},
     "output_type": "execute_result"
    }
   ],
   "source": [
    "def conv_to_32(df, cols): df[cols] = df[cols].astype(np.float32)\n",
    "\n",
    "conv_to_32(df_req, ['f1', 'f2', 'f3', 'f4', 'f5', 'f6', 'f7', 'f8', 'f9', 'f10', 'f11', 'f12'])\n",
    "df_req.head()\n"
   ]
  },
  {
   "cell_type": "code",
   "execution_count": 7,
   "metadata": {},
   "outputs": [
    {
     "data": {
      "text/html": [
       "<div>\n",
       "<style scoped>\n",
       "    .dataframe tbody tr th:only-of-type {\n",
       "        vertical-align: middle;\n",
       "    }\n",
       "\n",
       "    .dataframe tbody tr th {\n",
       "        vertical-align: top;\n",
       "    }\n",
       "\n",
       "    .dataframe thead th {\n",
       "        text-align: right;\n",
       "    }\n",
       "</style>\n",
       "<table border=\"1\" class=\"dataframe\">\n",
       "  <thead>\n",
       "    <tr style=\"text-align: right;\">\n",
       "      <th></th>\n",
       "      <th>f1</th>\n",
       "      <th>f2</th>\n",
       "      <th>f3</th>\n",
       "      <th>f4</th>\n",
       "      <th>f5</th>\n",
       "      <th>f6</th>\n",
       "      <th>f7</th>\n",
       "      <th>f8</th>\n",
       "      <th>f9</th>\n",
       "      <th>f10</th>\n",
       "      <th>f11</th>\n",
       "      <th>f12</th>\n",
       "      <th>asthma_status</th>\n",
       "    </tr>\n",
       "  </thead>\n",
       "  <tbody>\n",
       "    <tr>\n",
       "      <th>0</th>\n",
       "      <td>61.123413</td>\n",
       "      <td>9.845393</td>\n",
       "      <td>10.817043</td>\n",
       "      <td>7.056085</td>\n",
       "      <td>7.272934</td>\n",
       "      <td>5.614048</td>\n",
       "      <td>4.491150</td>\n",
       "      <td>4.172515</td>\n",
       "      <td>2.286071</td>\n",
       "      <td>2.837438</td>\n",
       "      <td>2.339272</td>\n",
       "      <td>2.766469</td>\n",
       "      <td>0</td>\n",
       "    </tr>\n",
       "    <tr>\n",
       "      <th>1</th>\n",
       "      <td>26.805195</td>\n",
       "      <td>23.643036</td>\n",
       "      <td>19.462852</td>\n",
       "      <td>15.425544</td>\n",
       "      <td>12.429753</td>\n",
       "      <td>10.795815</td>\n",
       "      <td>10.223204</td>\n",
       "      <td>10.023100</td>\n",
       "      <td>9.501163</td>\n",
       "      <td>8.302703</td>\n",
       "      <td>6.560850</td>\n",
       "      <td>4.790960</td>\n",
       "      <td>0</td>\n",
       "    </tr>\n",
       "    <tr>\n",
       "      <th>2</th>\n",
       "      <td>30.082260</td>\n",
       "      <td>25.409985</td>\n",
       "      <td>19.316051</td>\n",
       "      <td>13.504214</td>\n",
       "      <td>9.194826</td>\n",
       "      <td>6.793358</td>\n",
       "      <td>6.015062</td>\n",
       "      <td>6.272963</td>\n",
       "      <td>7.025842</td>\n",
       "      <td>7.901014</td>\n",
       "      <td>8.629334</td>\n",
       "      <td>8.968523</td>\n",
       "      <td>0</td>\n",
       "    </tr>\n",
       "    <tr>\n",
       "      <th>3</th>\n",
       "      <td>27.535519</td>\n",
       "      <td>24.261881</td>\n",
       "      <td>20.139553</td>\n",
       "      <td>16.368507</td>\n",
       "      <td>13.601135</td>\n",
       "      <td>11.807386</td>\n",
       "      <td>10.589570</td>\n",
       "      <td>9.629306</td>\n",
       "      <td>8.898376</td>\n",
       "      <td>8.510074</td>\n",
       "      <td>8.410082</td>\n",
       "      <td>8.236045</td>\n",
       "      <td>0</td>\n",
       "    </tr>\n",
       "    <tr>\n",
       "      <th>4</th>\n",
       "      <td>19.493349</td>\n",
       "      <td>17.590767</td>\n",
       "      <td>15.298168</td>\n",
       "      <td>13.292620</td>\n",
       "      <td>11.786129</td>\n",
       "      <td>10.563364</td>\n",
       "      <td>9.328993</td>\n",
       "      <td>8.018267</td>\n",
       "      <td>6.815018</td>\n",
       "      <td>5.924896</td>\n",
       "      <td>5.365196</td>\n",
       "      <td>4.971466</td>\n",
       "      <td>0</td>\n",
       "    </tr>\n",
       "  </tbody>\n",
       "</table>\n",
       "</div>"
      ],
      "text/plain": [
       "          f1         f2         f3         f4         f5         f6  \\\n",
       "0  61.123413   9.845393  10.817043   7.056085   7.272934   5.614048   \n",
       "1  26.805195  23.643036  19.462852  15.425544  12.429753  10.795815   \n",
       "2  30.082260  25.409985  19.316051  13.504214   9.194826   6.793358   \n",
       "3  27.535519  24.261881  20.139553  16.368507  13.601135  11.807386   \n",
       "4  19.493349  17.590767  15.298168  13.292620  11.786129  10.563364   \n",
       "\n",
       "          f7         f8        f9       f10       f11       f12  asthma_status  \n",
       "0   4.491150   4.172515  2.286071  2.837438  2.339272  2.766469              0  \n",
       "1  10.223204  10.023100  9.501163  8.302703  6.560850  4.790960              0  \n",
       "2   6.015062   6.272963  7.025842  7.901014  8.629334  8.968523              0  \n",
       "3  10.589570   9.629306  8.898376  8.510074  8.410082  8.236045              0  \n",
       "4   9.328993   8.018267  6.815018  5.924896  5.365196  4.971466              0  "
      ]
     },
     "execution_count": 7,
     "metadata": {},
     "output_type": "execute_result"
    }
   ],
   "source": [
    "df_req['asthma_status'] = df_req['asthma_status'].astype('category')\n",
    "df_req['asthma_status'] = df_req['asthma_status'].cat.codes\n",
    "df_req.head()"
   ]
  },
  {
   "cell_type": "code",
   "execution_count": 8,
   "metadata": {},
   "outputs": [
    {
     "data": {
      "text/plain": [
       "asthma_status\n",
       "0    455559\n",
       "1    319867\n",
       "Name: count, dtype: int64"
      ]
     },
     "execution_count": 8,
     "metadata": {},
     "output_type": "execute_result"
    }
   ],
   "source": [
    "df_req['asthma_status'].value_counts()"
   ]
  },
  {
   "cell_type": "code",
   "execution_count": 10,
   "metadata": {},
   "outputs": [
    {
     "name": "stdout",
     "output_type": "stream",
     "text": [
      "(775426, 12)\n",
      "(775426,)\n"
     ]
    }
   ],
   "source": [
    "Y = df_req.loc[:, 'asthma_status'].to_numpy()\n",
    "X = df_req.loc[:, df_req.columns != 'asthma_status'].to_numpy()\n",
    "\n",
    "print(X.shape)\n",
    "print(Y.shape)"
   ]
  },
  {
   "cell_type": "code",
   "execution_count": 14,
   "metadata": {},
   "outputs": [],
   "source": [
    "scaler = preprocessing.StandardScaler(copy=True, with_mean=True, with_std=True)\n",
    "# scaler = preprocessing.MinMaxScaler()\n",
    "X_scaled = scaler.fit_transform(X)"
   ]
  },
  {
   "cell_type": "code",
   "execution_count": 15,
   "metadata": {},
   "outputs": [
    {
     "data": {
      "text/plain": [
       "numpy.float32"
      ]
     },
     "execution_count": 15,
     "metadata": {},
     "output_type": "execute_result"
    }
   ],
   "source": [
    "type(X_scaled[0][0])"
   ]
  },
  {
   "cell_type": "code",
   "execution_count": 41,
   "metadata": {},
   "outputs": [],
   "source": [
    "x_train, x, y_train, y = train_test_split(X_scaled, Y, test_size=0.20, shuffle=True, random_state=137, stratify=Y)\n",
    "x_val, x_test, y_val, y_test = train_test_split(x, y, test_size=0.33, shuffle=True, random_state=137, stratify=y)"
   ]
  },
  {
   "attachments": {},
   "cell_type": "markdown",
   "metadata": {},
   "source": [
    "### Autoencoder"
   ]
  },
  {
   "cell_type": "code",
   "execution_count": 17,
   "metadata": {},
   "outputs": [
    {
     "data": {
      "text/plain": [
       "12"
      ]
     },
     "execution_count": 17,
     "metadata": {},
     "output_type": "execute_result"
    }
   ],
   "source": [
    "input_dim = x_train.shape[1] \n",
    "input_dim"
   ]
  },
  {
   "cell_type": "code",
   "execution_count": 42,
   "metadata": {},
   "outputs": [],
   "source": [
    "class AutoEncoder:\n",
    "    def __init__(self, input_dim):\n",
    "        self.input_dim = input_dim\n",
    "\n",
    "        self.encoder = self.make_encoder()\n",
    "        self.decoder = self.make_decoder()\n",
    "        self.autoencoder = keras.Sequential([self.encoder, self.decoder], name='Phonon_Autoencoder')\n",
    "\n",
    "        self.autoencoder.compile(optimizer='adam', loss='mse')\n",
    "\n",
    "    def make_encoder(self):\n",
    "        encoder = keras.Sequential([\n",
    "            Dense(32, activation='relu', input_shape=(self.input_dim,)),\n",
    "            Dense(64, activation='relu'),\n",
    "            Dense(128, activation='relu')\n",
    "        ], name='phonon_encoder')\n",
    "        return encoder\n",
    "\n",
    "    \n",
    "    def make_decoder(self):\n",
    "        decoder = keras.Sequential([\n",
    "            Dense(64, activation='relu', input_shape=(128,)),\n",
    "            Dense(32, activation='relu'),\n",
    "            Dense(input_dim, activation='linear')\n",
    "        ], name='phonon_decoder')\n",
    "        return decoder\n",
    "\n",
    "ae = AutoEncoder(12)"
   ]
  },
  {
   "cell_type": "code",
   "execution_count": null,
   "metadata": {},
   "outputs": [],
   "source": [
    "ae.encoder.summary()"
   ]
  },
  {
   "cell_type": "code",
   "execution_count": null,
   "metadata": {},
   "outputs": [],
   "source": [
    "ae.decoder.summary()"
   ]
  },
  {
   "cell_type": "code",
   "execution_count": 43,
   "metadata": {},
   "outputs": [
    {
     "name": "stdout",
     "output_type": "stream",
     "text": [
      "Model: \"Phonon_Autoencoder\"\n",
      "_________________________________________________________________\n",
      " Layer (type)                Output Shape              Param #   \n",
      "=================================================================\n",
      " phonon_encoder (Sequential)  (None, 128)              10848     \n",
      "                                                                 \n",
      " phonon_decoder (Sequential)  (None, 12)               10732     \n",
      "                                                                 \n",
      "=================================================================\n",
      "Total params: 21,580\n",
      "Trainable params: 21,580\n",
      "Non-trainable params: 0\n",
      "_________________________________________________________________\n"
     ]
    }
   ],
   "source": [
    "ae.autoencoder.summary()"
   ]
  },
  {
   "cell_type": "code",
   "execution_count": 36,
   "metadata": {},
   "outputs": [
    {
     "name": "stdout",
     "output_type": "stream",
     "text": [
      "Epoch 1/10\n",
      "16963/16963 [==============================] - 53s 3ms/step - loss: 6.7332e-05 - val_loss: 1.5893e-05\n",
      "Epoch 2/10\n",
      "16963/16963 [==============================] - 61s 4ms/step - loss: 6.4431e-05 - val_loss: 7.7915e-05\n",
      "Epoch 3/10\n",
      "16963/16963 [==============================] - 62s 4ms/step - loss: 6.4708e-05 - val_loss: 3.4974e-05\n",
      "Epoch 4/10\n",
      "16963/16963 [==============================] - 58s 3ms/step - loss: 6.2937e-05 - val_loss: 3.1524e-05\n",
      "Epoch 5/10\n",
      "16963/16963 [==============================] - 68s 4ms/step - loss: 6.2657e-05 - val_loss: 2.0856e-05\n",
      "Epoch 6/10\n",
      "16963/16963 [==============================] - 74s 4ms/step - loss: 6.0703e-05 - val_loss: 1.9710e-05\n",
      "Epoch 7/10\n",
      "16963/16963 [==============================] - 65s 4ms/step - loss: 6.0145e-05 - val_loss: 1.2742e-04\n",
      "Epoch 8/10\n",
      "16963/16963 [==============================] - 76s 4ms/step - loss: 6.1311e-05 - val_loss: 1.7970e-05\n",
      "Epoch 9/10\n",
      "16963/16963 [==============================] - 69s 4ms/step - loss: 5.8948e-05 - val_loss: 1.7988e-04\n",
      "Epoch 10/10\n",
      "16963/16963 [==============================] - 64s 4ms/step - loss: 5.7070e-05 - val_loss: 3.4884e-04\n"
     ]
    },
    {
     "data": {
      "text/plain": [
       "<keras.callbacks.History at 0x7efc7ced2750>"
      ]
     },
     "execution_count": 36,
     "metadata": {},
     "output_type": "execute_result"
    }
   ],
   "source": [
    "ae.autoencoder.fit(x_train, x_train, validation_data=(x_val, x_val), epochs=10, batch_size=32)"
   ]
  },
  {
   "cell_type": "code",
   "execution_count": 38,
   "metadata": {},
   "outputs": [
    {
     "data": {
      "image/png": "[encoded data removed]",
      "text/plain": [
       "<Figure size 640x480 with 1 Axes>"
      ]
     },
     "metadata": {},
     "output_type": "display_data"
    }
   ],
   "source": [
    "metric_hist = ae.autoencoder.history.history\n",
    "\n",
    "# summarize history for accuracy\n",
    "# plt.plot(metric_hist['binary_accuracy'])\n",
    "# plt.plot(metric_hist['val_binary_accuracy'])\n",
    "# plt.title('model binary_accuracy')\n",
    "# plt.ylabel('binary_accuracy')\n",
    "# plt.xlabel('epoch')\n",
    "# plt.legend(['train', 'validation'], loc='upper left')\n",
    "# plt.show()\n",
    "# summarize history for loss\n",
    "plt.plot(metric_hist['loss'])\n",
    "plt.plot(metric_hist['val_loss'])\n",
    "plt.title('model loss')\n",
    "plt.ylabel('loss')\n",
    "plt.xlabel('epoch')\n",
    "plt.legend(['train', 'validation'], loc='upper left')\n",
    "plt.show()"
   ]
  },
  {
   "attachments": {},
   "cell_type": "markdown",
   "metadata": {},
   "source": [
    "### Neural Network"
   ]
  },
  {
   "cell_type": "code",
   "execution_count": 135,
   "metadata": {},
   "outputs": [],
   "source": [
    "def make_model4_u():\n",
    "\n",
    "    ### model layout\n",
    "    model = keras.Sequential()\n",
    "    model.add(Dense(12, activation='linear', input_shape=(12,)))\n",
    "    model.add(Dense(12, activation='linear'))\n",
    "    model.summary()\n",
    "\n",
    "    ### model compiling\n",
    "    model.compile(\n",
    "        loss='mean_squared_error',\n",
    "        optimizer='adam',\n",
    "        metrics=[Accuracy()]\n",
    "    )\n",
    "\n",
    "    return model\n",
    "\n",
    "model_aa = make_model4_u()"
   ]
  },
  {
   "cell_type": "code",
   "execution_count": null,
   "metadata": {},
   "outputs": [],
   "source": [
    "model_aa.fit(x_train, x_train, validation_data=(x_train, x_train), batch_size=128, epochs=20, use_multiprocessing=True)"
   ]
  },
  {
   "cell_type": "code",
   "execution_count": 83,
   "metadata": {},
   "outputs": [],
   "source": [
    "def reconstructionScore(originalDF, reducedDF):\n",
    "    loss = np.sum((np.array(originalDF) - np.array(reducedDF))**2, axis=0)\n",
    "    # loss = pd.Series(data=loss,index=originalDF.index)\n",
    "    loss = (loss-np.min(loss))/(np.max(loss)-np.min(loss))\n",
    "    print('Mean for reconstruction scores: ', np.mean(loss))\n",
    "    return loss"
   ]
  },
  {
   "cell_type": "code",
   "execution_count": 84,
   "metadata": {},
   "outputs": [
    {
     "name": "stdout",
     "output_type": "stream",
     "text": [
      "2399/2399 [==============================] - 2s 902us/step\n"
     ]
    }
   ],
   "source": [
    "x_pred = model_aa.predict(x_test)\n",
    "scores = reconstructionScore(x_test, x_pred)\n",
    "scores"
   ]
  },
  {
   "cell_type": "code",
   "execution_count": 111,
   "metadata": {},
   "outputs": [],
   "source": [
    "def make_model4t_u(hp):                  \n",
    "    hp_layer1 = hp.Int('layer1', min_value=12, max_value=100, step=24)\n",
    "    hp_layer2 = hp.Int('layer2', min_value=12, max_value=100, step=24)\n",
    "    hp_layer3 = hp.Int('layer3', min_value=12, max_value=100, step=24)\n",
    "    hp_layer4 = hp.Int('layer4', min_value=12, max_value=100, step=24)\n",
    "    hp_activation = hp.Choice('activation', ['linear', 'relu', 'sigmoid'])\n",
    "\n",
    "    ### model layout\n",
    "    model = keras.Sequential(name='Phonon_to_Asthama_NN_u')\n",
    "    model.add(keras.Input(shape=(12,)))\n",
    "    model.add(Dense(units=hp_layer1, activation=hp_activation))\n",
    "    model.add(Dense(units=hp_layer2, activation=hp_activation))\n",
    "    model.add(Dense(units=hp_layer3, activation=hp_activation))\n",
    "    model.add(Dense(units=hp_layer4, activation=hp_activation))\n",
    "    model.add(Dropout(0.1))\n",
    "    model.add(Dense(12, activation=hp_activation))\n",
    "    model.summary()\n",
    "\n",
    "    ### model compiling\n",
    "    model.compile(\n",
    "        loss='mean_squared_error',\n",
    "        optimizer='adam',\n",
    "        metrics=['accuracy']\n",
    "    )\n",
    "\n",
    "    return model"
   ]
  },
  {
   "cell_type": "code",
   "execution_count": null,
   "metadata": {},
   "outputs": [],
   "source": [
    "tuner_4t = kt.Hyperband(\n",
    "    make_model4t_u,\n",
    "    objective='val_accuracy',\n",
    "    max_epochs=20,\n",
    "    factor=3,\n",
    "    directory='tuned_models',\n",
    "    project_name='model_4t2_u'\n",
    ")"
   ]
  },
  {
   "cell_type": "code",
   "execution_count": null,
   "metadata": {},
   "outputs": [],
   "source": [
    "stop_early = keras.callbacks.EarlyStopping(monitor='val_binary_accuracy', patience=3)\n",
    "tb_storage = keras.callbacks.TensorBoard(\"/tmp/tb_logs\")\n",
    "tuner_4t.search(x_train, y_train, epochs=20, validation_data=(x_train, y_train), batch_size=128, use_multiprocessing=True, callbacks=[stop_early, tb_storage])"
   ]
  },
  {
   "cell_type": "code",
   "execution_count": 34,
   "metadata": {},
   "outputs": [
    {
     "ename": "KeyError",
     "evalue": "'val_loss'",
     "output_type": "error",
     "traceback": [
      "\u001b[0;31m---------------------------------------------------------------------------\u001b[0m",
      "\u001b[0;31mKeyError\u001b[0m                                  Traceback (most recent call last)",
      "Cell \u001b[0;32mIn[34], line 14\u001b[0m\n\u001b[1;32m      4\u001b[0m \u001b[39m# summarize history for accuracy\u001b[39;00m\n\u001b[1;32m      5\u001b[0m \u001b[39m# plt.plot(metric_hist['binary_accuracy'])\u001b[39;00m\n\u001b[1;32m      6\u001b[0m \u001b[39m# plt.plot(metric_hist['val_binary_accuracy'])\u001b[39;00m\n\u001b[0;32m   (...)\u001b[0m\n\u001b[1;32m     11\u001b[0m \u001b[39m# plt.show()\u001b[39;00m\n\u001b[1;32m     12\u001b[0m \u001b[39m# summarize history for loss\u001b[39;00m\n\u001b[1;32m     13\u001b[0m plt\u001b[39m.\u001b[39mplot(metric_hist[\u001b[39m'\u001b[39m\u001b[39mloss\u001b[39m\u001b[39m'\u001b[39m])\n\u001b[0;32m---> 14\u001b[0m plt\u001b[39m.\u001b[39mplot(metric_hist[\u001b[39m'\u001b[39;49m\u001b[39mval_loss\u001b[39;49m\u001b[39m'\u001b[39;49m])\n\u001b[1;32m     15\u001b[0m plt\u001b[39m.\u001b[39mtitle(\u001b[39m'\u001b[39m\u001b[39mmodel loss\u001b[39m\u001b[39m'\u001b[39m)\n\u001b[1;32m     16\u001b[0m plt\u001b[39m.\u001b[39mylabel(\u001b[39m'\u001b[39m\u001b[39mloss\u001b[39m\u001b[39m'\u001b[39m)\n",
      "\u001b[0;31mKeyError\u001b[0m: 'val_loss'"
     ]
    },
    {
     "data": {
      "image/png": "[encoded data removed]",
      "text/plain": [
       "<Figure size 640x480 with 1 Axes>"
      ]
     },
     "metadata": {},
     "output_type": "display_data"
    }
   ],
   "source": [
    "metric_hist = model_aa.history.history\n",
    "\n",
    "# summarize history for accuracy\n",
    "# plt.plot(metric_hist['binary_accuracy'])\n",
    "# plt.plot(metric_hist['val_binary_accuracy'])\n",
    "# plt.title('model binary_accuracy')\n",
    "# plt.ylabel('binary_accuracy')\n",
    "# plt.xlabel('epoch')\n",
    "# plt.legend(['train', 'validation'], loc='upper left')\n",
    "# plt.show()\n",
    "# summarize history for loss\n",
    "plt.plot(metric_hist['loss'])\n",
    "plt.plot(metric_hist['val_loss'])\n",
    "plt.title('model loss')\n",
    "plt.ylabel('loss')\n",
    "plt.xlabel('epoch')\n",
    "plt.legend(['train', 'validation'], loc='upper left')\n",
    "plt.show()"
   ]
  }
 ],
 "metadata": {
  "kernelspec": {
   "display_name": "env",
   "language": "python",
   "name": "python3"
  },
  "language_info": {
   "codemirror_mode": {
    "name": "ipython",
    "version": 3
   },
   "file_extension": ".py",
   "mimetype": "text/x-python",
   "name": "python",
   "nbconvert_exporter": "python",
   "pygments_lexer": "ipython3",
   "version": "3.11.3"
  },
  "orig_nbformat": 4
 },
 "nbformat": 4,
 "nbformat_minor": 2
}
