{
 "cells": [
  {
   "cell_type": "code",
   "execution_count": 2,
   "metadata": {},
   "outputs": [],
   "source": [
    "import os\n",
    "import re\n",
    "import numpy as np\n",
    "import json"
   ]
  },
  {
   "cell_type": "code",
   "execution_count": 3,
   "metadata": {},
   "outputs": [
    {
     "data": {
      "text/plain": [
       "'../../data/SHIVANI_DATA_2016'"
      ]
     },
     "execution_count": 3,
     "metadata": {},
     "output_type": "execute_result"
    }
   ],
   "source": [
    "data_path = os.path.join('..', '..', 'data', 'SHIVANI_DATA_2016')\n",
    "data_path"
   ]
  },
  {
   "cell_type": "code",
   "execution_count": 4,
   "metadata": {},
   "outputs": [
    {
     "name": "stdout",
     "output_type": "stream",
     "text": [
      "245\n",
      "245\n"
     ]
    }
   ],
   "source": [
    "cntr = 0\n",
    "filesnum = 0\n",
    "for _, dirs, files in os.walk(data_path, topdown=False):\n",
    "    if dirs == []:\n",
    "        filesnum+=1\n",
    "        for file in files:\n",
    "            if re.match('^.+[.]json$', file) != None:\n",
    "                cntr +=1\n",
    "print(filesnum)\n",
    "print(cntr)"
   ]
  },
  {
   "cell_type": "code",
   "execution_count": 5,
   "metadata": {},
   "outputs": [
    {
     "name": "stdout",
     "output_type": "stream",
     "text": [
      "[]\n",
      "[]\n",
      "[]\n",
      "[]\n",
      "[]\n",
      "[]\n",
      "[]\n",
      "[]\n",
      "[]\n",
      "[]\n",
      "[]\n",
      "[]\n",
      "[]\n",
      "[]\n",
      "[]\n",
      "[]\n",
      "[]\n",
      "[]\n",
      "[]\n",
      "[]\n",
      "[]\n",
      "[]\n",
      "[]\n",
      "[]\n",
      "[]\n",
      "[]\n",
      "[]\n",
      "[]\n",
      "[]\n",
      "[]\n",
      "[]\n",
      "[]\n",
      "[]\n",
      "[]\n",
      "[]\n",
      "[]\n",
      "[]\n",
      "[]\n"
     ]
    },
    {
     "data": {
      "text/plain": [
       "207"
      ]
     },
     "execution_count": 5,
     "metadata": {},
     "output_type": "execute_result"
    }
   ],
   "source": [
    "valid_ctr = 0\n",
    "\n",
    "\n",
    "for _, dirs, files in os.walk(data_path, topdown=False):\n",
    "    if dirs != []: continue\n",
    "    \n",
    "    a, b, c = 0, 0, 0\n",
    "    for file in files:\n",
    "        if re.match('^.+[.]json$', file) != None:\n",
    "            a+=1\n",
    "        if re.match('^.+[.]wav$', file) != None:\n",
    "            b+=1\n",
    "        if re.match('^.+[.]anote[.]txt$', file) != None:\n",
    "            c+=1\n",
    "    if a > 0 and b > 0 and c > 0:\n",
    "        valid_ctr+=1\n",
    "\n",
    "valid_ctr"
   ]
  },
  {
   "cell_type": "code",
   "execution_count": 10,
   "metadata": {},
   "outputs": [
    {
     "name": "stdout",
     "output_type": "stream",
     "text": [
      "174\n",
      "104 70\n",
      "104\n",
      "70\n"
     ]
    }
   ],
   "source": [
    "valid_ctr = 0\n",
    "patient_ctr = 0\n",
    "control_cntr = 0\n",
    "patient_anotes = []\n",
    "contol_anotes = []\n",
    "for dir_name in os.listdir(data_path):\n",
    "    a, b, c = 0, 0, 0\n",
    "    mb_status = None\n",
    "\n",
    "    for file in os.listdir(os.path.join(data_path, dir_name)):\n",
    "        if re.match('^.+[.]json$', file) != None:\n",
    "            with open(os.path.join(data_path, dir_name, file), 'r') as f:\n",
    "                data = json.load(f)\n",
    "                mb_status = data['subjectBiodata']['subjectType']\n",
    "            a+=1\n",
    "        if re.match('^.+before.+[.]wav$', file) != None:\n",
    "            b+=1\n",
    "        if re.match('^.+before.+[.]anote[.]txt$', file) != None:\n",
    "            c+=1\n",
    "\n",
    "    if a > 0 and b > 0 and c > 0:\n",
    "        valid_ctr+=1\n",
    "        if mb_status == 'Patient':\n",
    "            patient_ctr+=1\n",
    "            patient_anotes.append(b)\n",
    "        if mb_status == 'Control': \n",
    "            control_cntr+=1\n",
    "            contol_anotes.append(b)\n",
    "\n",
    "print(valid_ctr)\n",
    "print(control_cntr, patient_ctr)\n",
    "print(sum(contol_anotes))\n",
    "print(sum(patient_anotes))"
   ]
  }
 ],
 "metadata": {
  "kernelspec": {
   "display_name": "env",
   "language": "python",
   "name": "python3"
  },
  "language_info": {
   "codemirror_mode": {
    "name": "ipython",
    "version": 3
   },
   "file_extension": ".py",
   "mimetype": "text/x-python",
   "name": "python",
   "nbconvert_exporter": "python",
   "pygments_lexer": "ipython3",
   "version": "3.11.3"
  },
  "orig_nbformat": 4
 },
 "nbformat": 4,
 "nbformat_minor": 2
}
